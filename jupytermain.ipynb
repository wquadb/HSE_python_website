{
 "cells": [
  {
   "cell_type": "markdown",
   "source": [
    "# Importing main libraries"
   ],
   "metadata": {
    "collapsed": false
   },
   "id": "40b46ab32f945ac1"
  },
  {
   "cell_type": "code",
   "execution_count": null,
   "id": "initial_id",
   "metadata": {
    "collapsed": true,
    "is_executing": true
   },
   "outputs": [],
   "source": [
    "from datetime import datetime\n",
    "import os\n",
    "import numpy as np\n",
    "import plotly.graph_objects as go\n",
    "import plotly.express as px\n",
    "from plotly.subplots import make_subplots\n",
    "import matplotlib.pyplot as plt\n",
    "import seaborn as sns\n",
    "import pandas as pd\n",
    "import pandas_ta as ta\n",
    "import mplfinance as mpf\n",
    "import yfinance as yf"
   ]
  },
  {
   "cell_type": "markdown",
   "source": [
    "# Importing datasets\n",
    "Parsed data from Moscow Exchange\n",
    "Stock market shares of Yandex and Sovcomflot"
   ],
   "metadata": {
    "collapsed": false
   },
   "id": "803ab162bfe738fe"
  },
  {
   "cell_type": "code",
   "execution_count": null,
   "outputs": [],
   "source": [
    "def get_data():\n",
    "    \n",
    "    assert 'YNDX.csv' and 'FLOT.csv' in os.listdir(), \"You need to get the datasets first\"\n",
    "    \n",
    "    yndxdf = pd.read_csv('YNDX.csv', sep=';')\n",
    "    flotdf = pd.read_csv('FLOT.csv', sep=';')\n",
    "    \n",
    "    yndxdf['name'], flotdf['name'] = 'Yandex', 'Sovcomflot'\n",
    "    \n",
    "    return yndxdf, flotdf"
   ],
   "metadata": {
    "collapsed": false,
    "is_executing": true
   },
   "id": "29d6e15d30e11f65"
  },
  {
   "cell_type": "markdown",
   "source": [
    "# Data preprocessing\n",
    "changing date format, setting index"
   ],
   "metadata": {
    "collapsed": false
   },
   "id": "18f89e855335b56a"
  },
  {
   "cell_type": "code",
   "execution_count": null,
   "outputs": [],
   "source": [
    "def preprocess(df: pd.DataFrame) -> pd.DataFrame:\n",
    "\n",
    "    \"\"\"\n",
    "    Preprocessing the dataframe\n",
    "    :param df: dataframe, *index must be datetime\n",
    "    :return: dataframe with datetime index\n",
    "    \"\"\"\n",
    "    \n",
    "    df['tradedate'] = pd.to_datetime(df['tradedate'], yearfirst=True, format='%Y-%m-%d')\n",
    "    df.set_index('tradedate', inplace=True)\n",
    "    \n",
    "    return df"
   ],
   "metadata": {
    "collapsed": false,
    "is_executing": true
   },
   "id": "84da7b33e24f37c9"
  },
  {
   "cell_type": "markdown",
   "source": [
    "# Initialising the data\n",
    "making quick formula"
   ],
   "metadata": {
    "collapsed": false
   },
   "id": "32258531b029119"
  },
  {
   "cell_type": "code",
   "execution_count": null,
   "outputs": [],
   "source": [
    "def init():\n",
    "    yndxdf, flotdf = get_data()\n",
    "    yndxdf = preprocess(yndxdf)\n",
    "    flotdf = preprocess(flotdf)\n",
    "    return yndxdf, flotdf"
   ],
   "metadata": {
    "collapsed": false,
    "is_executing": true
   },
   "id": "1692f3687c5d937d"
  },
  {
   "cell_type": "code",
   "execution_count": null,
   "outputs": [],
   "source": [
    "def title(self):\n",
    "    return self['name'].iloc[1]"
   ],
   "metadata": {
    "collapsed": false,
    "is_executing": true
   },
   "id": "f1d5d332c510bc42"
  },
  {
   "cell_type": "code",
   "execution_count": null,
   "outputs": [],
   "source": [
    "yndxdf, flotdf = init()"
   ],
   "metadata": {
    "collapsed": false,
    "is_executing": true
   },
   "id": "f632c52c2fd49c55"
  },
  {
   "cell_type": "markdown",
   "source": [
    "# Yahoo Finance API (optional)\n",
    "\n",
    "If you want to change the stock market share, after my ones you can use this API, \n",
    "just call the func below and leave it as it is or change it in following way:\n",
    "\n",
    "`yndxdf, flotdf = init_yahoo('yahoo_finance_index_1', 'yahoo_finance_index_2')`\n",
    "\n",
    "if you have no idea, I prepared some examples for you:\n",
    "\n",
    "`yndxdf, flotdf = init_yahoo('AAPL', 'GOOG')`\n",
    "\n",
    "`yndxdf, flotdf = init_yahoo('AMZN', 'TSLA')`\n",
    "\n",
    "The only problem is that **Yahoo Finance API** doesn't work with Russian stock market shares and\n",
    "all the titles of graphs will not be changed to yours, so you'll see the titles of the previous stock market shares.\n",
    "\n",
    "*there's no need to use this, if you don't want to explore something by your own interest.*\n",
    "\n",
    "The project was made using **Moscow Exchange API** which is so terrible, \n",
    "I used it to parse the data about exactly Yandex and Sovcomflot.\n",
    "\n",
    "fun fact: **Yahoo API** work much properly and looks more accurate, than **Moscow Exchange API**.\n",
    "\n",
    "Nevertheless, if I'd started this project from the beginning, I'd use Yahoo, \n",
    "even if I had to change the stock market share.\n",
    "\n",
    "The only thing you need to do is to change the stock market share in the dictionary below.\n"
   ],
   "metadata": {
    "collapsed": false
   },
   "id": "f23820872ff3954e"
  },
  {
   "cell_type": "code",
   "execution_count": null,
   "outputs": [],
   "source": [
    "def init_yahoo(index1:str='', index2:str='', name1:str='', name2:str=''):\n",
    "    \n",
    "    stock = {True: index1, False: index2}\n",
    "    \n",
    "    yndx = yf.Ticker(stock[True])\n",
    "    yndxdf = yndx.history(period='max', interval='1d')\n",
    "    flot = yf.Ticker(stock[False])\n",
    "    flotdf = flot.history(period='max', interval='1d')\n",
    "    \n",
    "    yndxdf.columns = map(str.lower, yndxdf.columns)\n",
    "    flotdf.columns = map(str.lower, flotdf.columns)\n",
    "    \n",
    "    yndxdf['name'], flotdf['name'] = name1, name2\n",
    "        \n",
    "    yndxdf.rename_axis('tradedate', inplace=True)\n",
    "    flotdf.rename_axis('tradedate', inplace=True)\n",
    "    \n",
    "    return yndxdf, flotdf"
   ],
   "metadata": {
    "collapsed": false,
    "is_executing": true
   },
   "id": "f270cfa29c5e54db"
  },
  {
   "cell_type": "code",
   "execution_count": null,
   "outputs": [],
   "source": [],
   "metadata": {
    "collapsed": false,
    "is_executing": true
   },
   "id": "e6aef8fba46260f4"
  },
  {
   "cell_type": "markdown",
   "source": [
    "# Defining functions for calculating technical indicators\n",
    "\n",
    "* Relative Strength Index (RSI)\n",
    "    $$\n",
    "\n",
    "RSI = 100 - \\frac{100}{1 + RS}\n",
    "\\\\\n",
    "\n",
    "\\begin{align*}\n",
    "RS & = \\frac{\\text{AG}}{\\text{AL}} \\\\\n",
    "\\end{align*}\n",
    "\\\\\n",
    "\n",
    "\\begin{align*}\n",
    "\\text{AG (Average Gain)} & = \\frac{\\text{Sum of gains over } n \\text{ periods}}{n} \\\\\n",
    "\\text{AL (Average Loss)} & = \\frac{\\text{Sum of losses over } n \\text{ periods}}{n}\n",
    "\\end{align*}\n",
    "\n",
    "    \n",
    "    $$\n",
    "* Moving Average Convergence Divergence (MACD)\n",
    "* Simple Moving Average (SMA)"
   ],
   "metadata": {
    "collapsed": false
   },
   "id": "c5eb43d5176f6d1"
  },
  {
   "cell_type": "code",
   "execution_count": null,
   "outputs": [],
   "source": [
    "def add_rsi(df_origin: pd.DataFrame, periods: list = []) -> pd.DataFrame:\n",
    "    \n",
    "    \"\"\"\n",
    "    Calculating RSI (Relative Strength Ratio) indicator\n",
    "    and adding it to the dataframe\n",
    "    \"\"\"\n",
    "    \n",
    "    df = df_origin.copy()\n",
    "    \n",
    "    for period in periods:\n",
    "        assert period > 0, \"Period must be greater than 0\"\n",
    "        assert period < len(df), \"Period must be less than the length of dataframe\"\n",
    "        \n",
    "        # rsi computed by myself\n",
    "        delta = df['close'].diff()\n",
    "        up = delta.copy()\n",
    "        down = delta.copy()\n",
    "        up[up < 0] = 0\n",
    "        down[down > 0] = 0\n",
    "        roll_up = up.rolling(period).mean()\n",
    "        roll_down = down.abs().rolling(period).mean()\n",
    "        my_rsi = 100 - 100 / (1 + roll_up / roll_down)\n",
    "    \n",
    "        # the perfect rsi\n",
    "        accurate_rsi = ta.rsi(df['close'], length=period)\n",
    "        \n",
    "        result_df = df.copy()\n",
    "        result_df[f'my_rsi_{period}'] = my_rsi\n",
    "        result_df[f'ta_rsi_{period}'] = accurate_rsi\n",
    "        \n",
    "        df = result_df\n",
    "        \n",
    "    return result_df\n",
    "\n",
    "    \n",
    "def add_macd(df, fast=12, slow=26, signal=9):\n",
    "    \n",
    "    \"\"\"\n",
    "    Calculating MACD indicator\n",
    "    \"\"\"\n",
    "    \n",
    "    assert fast < slow, f\"The slow:{slow} period must be greater than the fast{fast} period\"\n",
    "    assert signal < slow, f\"The slow{slow} period must be greater than the signal:{signal} period\"\n",
    "    \n",
    "    \n",
    "    macd = ta.macd(df['close'], fast=fast, slow=slow, signal=signal)\n",
    "    \n",
    "    return macd\n",
    "\n",
    "\n",
    "def show_macd(ax, name: str, levels: bool = True, color: str ='blue'):\n",
    "\n",
    "    \"\"\"\n",
    "    Plotting MACD indicator\n",
    "    \"\"\"\n",
    "    \n",
    "    \n",
    "    plot = ax.plot(xlabel=f'{name}', title=f'{ax.name}', color=color)\n",
    "    if levels:\n",
    "        plot.axhline(0, color='g')\n",
    "        plot.legend([name, 'MACD'])\n",
    "    return plot\n",
    "\n",
    "\n",
    "def add_sma(df, period=30):\n",
    "    \n",
    "    \"\"\"\n",
    "    Calculating SMA(Simple Moving Average) indicator\n",
    "    \"\"\"\n",
    "    \n",
    "    sma = ta.sma(df['close'], length=period)\n",
    "    \n",
    "    return sma\n",
    "\n",
    "\n",
    "def add_corr(df_origin: pd.DataFrame, \n",
    "             periods: list = [], \n",
    "             memories: dict = {},\n",
    "             cut: dict = {},\n",
    "             mine: bool = False) -> pd.DataFrame:\n",
    "\n",
    "\n",
    "    \"\"\"\n",
    "    Calculating correlation between two columns and append to a new one\n",
    "    :param df_origin: dataframe, *index must be datetime\n",
    "    :param periods: list of all periods of RSI that are in the dataframe\n",
    "    :param memories: dictionary of all periods of RSI and their memory\n",
    "    :param cut: dictionary of config of cutting the correlation\n",
    "    :return: dataframe with correlation columns\n",
    "    \"\"\"\n",
    "\n",
    "    \n",
    "    assert len(periods) > 0 and len(periods) <= 5, \"You need to choose at least 1 period, at most 5 periods\"\n",
    "    assert all([period in memories.keys() for period in periods]), \"You need to choose periods for each period\"\n",
    "    assert all([f'ta_rsi_{period}' in df_origin.columns for period in periods]), \"You need to calculate RSI first\"\n",
    "    assert all([f'my_rsi_{period}' in df_origin.columns for period in periods]), \"You need to calculate RSI first\"\n",
    "    \n",
    "    \n",
    "    go = {0: 'ta', 1: 'my'}\n",
    "    \n",
    "    df = df_origin.copy()\n",
    "    \n",
    "    for period in periods:\n",
    "        \n",
    "        memory = memories[period]\n",
    "        \n",
    "        for i in range(2):\n",
    "            if not mine:\n",
    "                if i == 1:\n",
    "                    break\n",
    "            \n",
    "            result_df, corr = df.copy(), dict()\n",
    "            result_corr, timesteps = [], [i for i in df.index]\n",
    "            \n",
    "            col_1, col_2 = f'close', f'{go[i]}_rsi_{period}'\n",
    "            new_col, beta = f'corr_{go[i]}_rsi_{period}', 0 \n",
    "            \n",
    "            for k in range(len(timesteps)):\n",
    "                \n",
    "                tempdf = df.loc[timesteps[max(0,k - memory)]:timesteps[k]].copy()\n",
    "                result_corr.append(tempdf[col_1].corr(tempdf[col_2]))\n",
    "        \n",
    "            \n",
    "            if len(timesteps) != len(result_corr):\n",
    "                raise ValueError(\"num of rows of df and calculated correlation must be equal\")\n",
    "            else:\n",
    "                \n",
    "                corr = {x: i for i, x in zip(result_corr, timesteps)}\n",
    "\n",
    "                if cut and (go[i] in cut['who']) and (cut['how'] == 'front' or cut['how'] == 'all'):\n",
    "                    for x in corr:\n",
    "                        if beta < cut['amount']:\n",
    "                            corr[x] = np.NaN\n",
    "                        beta += 1\n",
    "                if cut and (go[i] in cut['who']) and (cut['how'] == 'back' or cut['how'] == 'all'):\n",
    "                    for x in corr:\n",
    "                        if beta > len(corr) - cut['amount']:\n",
    "                            corr[x] = np.NaN\n",
    "                        beta += 1\n",
    "                    \n",
    "                result_df[new_col] = corr\n",
    "            \n",
    "            df = result_df\n",
    "            \n",
    "    return result_df\n",
    "\n"
   ],
   "metadata": {
    "collapsed": false,
    "is_executing": true
   },
   "id": "ba2fd0fd24fb78fb"
  },
  {
   "cell_type": "markdown",
   "source": [
    "# Data visualisation functions\n",
    "plotting w/ plotly, matplotlib, matplotlibfinance, seaborn"
   ],
   "metadata": {
    "collapsed": false
   },
   "id": "48e5e15d0735b987"
  },
  {
   "cell_type": "code",
   "execution_count": null,
   "outputs": [],
   "source": [
    "def ly_candlechart(df: pd.DataFrame):\n",
    "\n",
    "    \"\"\"\n",
    "    Plotting candlestick chart with volume bars using plotly library\n",
    "    \"\"\"\n",
    "    \n",
    "    fig = go.Figure(\n",
    "        data=[go.Candlestick(\n",
    "        x=df.index,\n",
    "        open=df['open'],\n",
    "        high=df['high'],\n",
    "        low=df['low'],\n",
    "        close=df['close']\n",
    "        )]\n",
    "    )\n",
    "    \n",
    "    fig.update_layout(\n",
    "        title=f'{title(df)}',\n",
    "        width=750,\n",
    "        height=650,\n",
    "    )\n",
    "    \n",
    "    fig.add_trace(\n",
    "        go.Bar(\n",
    "        x=df.index,\n",
    "        y=df['volume'],\n",
    "        name='Volume',\n",
    "        marker=dict(color='rgba(255, 255, 255, 0.4)'),\n",
    "        yaxis='y2'\n",
    "        )\n",
    "    )\n",
    "    \n",
    "    fig.layout.yaxis2 = dict(domain=[0, 0.3], anchor='x', title='Volume')\n",
    "    fig.layout.yaxis = dict(domain=[0.3, 1], anchor='x', title='Price')\n",
    "    \n",
    "    \n",
    "    return fig\n",
    "\n",
    "\n",
    "def ly_linegraph(df: pd.DataFrame, title: str = 'stock market'):\n",
    "    \n",
    "    \"\"\"\n",
    "    Plotting line chart using plotly library\n",
    "    \"\"\"\n",
    "    \n",
    "    fig = go.Figure(\n",
    "        data=[go.Scatter(\n",
    "        x=df.index,\n",
    "        y=df['close'],\n",
    "        )],\n",
    "    )\n",
    "    \n",
    "    fig.update_layout(\n",
    "        title=f'{title}',\n",
    "        width=700,\n",
    "        height=700,\n",
    "    )\n",
    "    \n",
    "    fig.show()\n",
    "\n",
    "\n",
    "def mpl_candlechart(df):\n",
    "    \n",
    "    \"\"\"\n",
    "    Plotting candlestick chart with volume bars using mplfinance library\n",
    "    \"\"\"\n",
    "    \n",
    "    mpf.plot(\n",
    "            df, \n",
    "            title=f'{title(df)}', \n",
    "            type='candle', \n",
    "            mav=(3, 7), \n",
    "            volume=True, \n",
    "            show_nontrading=True, \n",
    "            style='yahoo', \n",
    "            figsize=(10, 6)\n",
    "    )\n",
    "    mpf.show()\n",
    "\n",
    "\n",
    "def sns_linegraph(df):\n",
    "    \n",
    "    \"\"\"\n",
    "    Plotting line chart using seaborn library\n",
    "    \"\"\"\n",
    "    \n",
    "    sns.set(style=\"darkgrid\")\n",
    "    sns.lineplot(x=\"tradedate\", y=\"close\", data=df)\n",
    "    plt.show()\n",
    "\n",
    "\n",
    "def fig_rsi(df: pd.DataFrame,\n",
    "            periods: list = [14],\n",
    "            graph: bool = False,\n",
    "            mpl: bool = False, \n",
    "            sns: bool = False,\n",
    "            ly: bool = False,\n",
    "            mine: bool = True,\n",
    "            levels: bool = True) -> go.Figure:\n",
    "    \n",
    "    \"\"\"\n",
    "    Plotting RSI indicator by itself or creates matplotlib subplot\n",
    "    :param df: dataframe, *index must be datetime\n",
    "    :param periods: list of all periods of RSI that are in the dataframe\n",
    "    :param graph: is the graph with candlestick chart and correlation needed\n",
    "    :param levels: is the standart (30,70) levels of RSI needed \n",
    "    :param mpl: use matplotlib library\n",
    "    :param sns: use seaborn library\n",
    "    :param ly: use plotly library\n",
    "    :return: \n",
    "    \"\"\"\n",
    "    \n",
    "    \n",
    "    \n",
    "    if mine:\n",
    "        assert all([f'my_rsi_{period}' in df.columns for period in periods]), \"You need to calculate RSI first\"\n",
    "    assert all([f'ta_rsi_{period}' in df.columns for period in periods]), \"You need to calculate RSI first\"\n",
    "    assert mpl + sns + ly <= 1, \"You can choose only one library to plot\"\n",
    "    assert len(periods) > 0, \"You need to choose at least one period\"\n",
    "    assert len(periods) <= 5, \"You can't plot more than 5 graphs\"\n",
    "    \n",
    "    if graph:\n",
    "        assert all([f'corr_ta_rsi_{period}' in df.columns for period in periods]), \"You need to calculate correlation first to plot graph\"\n",
    "        if mine:\n",
    "            assert all([f'corr_my_rsi_{period}' in df.columns for period in periods]), \"You need to calculate correlation first to plot graph\"\n",
    "    \n",
    "    if ly:\n",
    "        \n",
    "        if levels:\n",
    "            \n",
    "            level1 = go.Scatter(\n",
    "                x=df.index,\n",
    "                y=[30 for i in range(len(df.index))],\n",
    "                name = 'oversold',\n",
    "                opacity=0.5,\n",
    "                fillcolor='green'\n",
    "                )\n",
    "                \n",
    "            level2 = go.Scatter(\n",
    "                x=df.index,\n",
    "                y=[70 for i in range(len(df.index))],\n",
    "                name = 'overbought',\n",
    "                opacity=0.5,\n",
    "                fillcolor='red'\n",
    "                )\n",
    "        \n",
    "        iterate, alp = len(periods), 0\n",
    "        \n",
    "        if len(periods) > 1:\n",
    "            \n",
    "            if not graph:\n",
    "                \n",
    "                fig = make_subplots(rows=1, cols=iterate, shared_xaxes=True, shared_yaxes=True,horizontal_spacing=0.05, vertical_spacing=0.01)\n",
    "                fig.update_layout(width=1100, height=500, barmode='overlay', title=f'{title(df)} RSI{periods} {str(df.index[0]).split()[0]} - {str(df.index[-1]).split()[0]}')\n",
    "                \n",
    "                for i in range(iterate):\n",
    "                    \n",
    "                    if alp >= len(periods):\n",
    "                        break\n",
    "                    \n",
    "                    taplot = go.Scatter(\n",
    "                    x=df.index,\n",
    "                    y=df[f'ta_rsi_{periods[alp]}'],\n",
    "                    name = f'ta RSI{periods[alp]}'\n",
    "                    )\n",
    "                    \n",
    "                    fig.add_trace(taplot, row=1, col=i + 1)\n",
    "                    \n",
    "                    if mine:\n",
    "                        myplot = go.Scatter(\n",
    "                        x=df.index,\n",
    "                        y=df[f'my_rsi_{periods[alp]}'],\n",
    "                        name = f'my RSI{periods[alp]}'\n",
    "                        )\n",
    "                        \n",
    "                        fig.add_trace(myplot, row=1, col=i + 1)\n",
    "                        \n",
    "                    if levels:\n",
    "                        fig.add_trace(level1, col=i + 1, row=1)\n",
    "                        fig.add_trace(level2, col=i + 1, row=1)\n",
    "                        \n",
    "                    alp += 1\n",
    "                    \n",
    "            else:\n",
    "                \n",
    "                fig = make_subplots(rows=3, cols=iterate, shared_xaxes=True, shared_yaxes=True, horizontal_spacing=0.05, vertical_spacing=0.01)\n",
    "                fig.update_layout(width=1300, height=900, barmode='overlay', title=f'{title(df)} RSI{periods} {str(df.index[0]).split()[0]} - {str(df.index[-1]).split()[0]}')\n",
    "                \n",
    "                for i in range(iterate):\n",
    "                    \n",
    "                    if alp >= len(periods):\n",
    "                        break\n",
    "                    \n",
    "                    fig.add_trace(ly_candlechart(df).data[0], row=3, col=i + 1)\n",
    "\n",
    "                    taplot = go.Scatter(\n",
    "                    x=df.index,\n",
    "                    y=df[f'ta_rsi_{periods[alp]}'],\n",
    "                    name = f'ta RSI{periods[alp]}'\n",
    "                    )\n",
    "                    \n",
    "                    fig.add_trace(taplot, row=1, col=i + 1)\n",
    "                    \n",
    "                    if mine:\n",
    "    \n",
    "                        myplot = go.Scatter(\n",
    "                        x=df.index,\n",
    "                        y=df[f'my_rsi_{periods[alp]}'],\n",
    "                        name = f'my RSI{periods[alp]}'\n",
    "                        )\n",
    "                        \n",
    "                        fig.add_trace(myplot, row=1, col=i + 1)\n",
    "                    \n",
    "                    tacorrplot = go.Scatter(\n",
    "                    x=df.index,\n",
    "                    y=df[f'corr_ta_rsi_{periods[alp]}'],\n",
    "                    name = f'corr ta RSI{periods[alp]}'\n",
    "                    )\n",
    "                    \n",
    "                    fig.add_trace(tacorrplot, row=2, col=i + 1)\n",
    "                    \n",
    "                    if mine:\n",
    "                        mycorrplot = go.Scatter(\n",
    "                        x=df.index,\n",
    "                        y=df[f'corr_my_rsi_{periods[alp]}'],\n",
    "                        name = f'corr my RSI{periods[alp]}'\n",
    "                        )\n",
    "                        \n",
    "                        fig.add_trace(mycorrplot, row=2, col=i + 1)\n",
    "                        \n",
    "                    if levels:\n",
    "                        fig.add_trace(level1, col=i + 1, row=1)\n",
    "                        fig.add_trace(level2, col=i + 1, row=1)\n",
    "                    \n",
    "                    alp += 1\n",
    "        \n",
    "        else:\n",
    "\n",
    "            if not graph:\n",
    "                \n",
    "                fig = make_subplots(rows=1, cols=1, shared_xaxes=True, shared_yaxes=True, horizontal_spacing=0.05, vertical_spacing=0.01)\n",
    "                fig.update_layout(width=1200, height=700, barmode='overlay', title=f'{title(df)} RSI{periods} {str(df.index[0]).split()[0]} - {str(df.index[-1]).split()[0]}')\n",
    "                \n",
    "                taplot = go.Scatter(\n",
    "                x=df.index,\n",
    "                y=df[f'ta_rsi_{periods[0]}'],\n",
    "                name = f'ta RSI{periods[0]}'\n",
    "                )\n",
    "                        \n",
    "                fig.add_trace(taplot, row=1, col=1)\n",
    "                \n",
    "                if mine:\n",
    "                    \n",
    "                    myplot = go.Scatter(\n",
    "                    x=df.index,\n",
    "                    y=df[f'my_rsi_{periods[0]}'],\n",
    "                    name = f'my RSI{periods[0]}'\n",
    "                    )\n",
    "                \n",
    "                    fig.add_trace(myplot, row=1, col=1)\n",
    "                \n",
    "                if levels:\n",
    "                    fig.add_trace(level1, col=1, row=1)\n",
    "                    fig.add_trace(level2, col=1, row=1)\n",
    "                    \n",
    "            else:\n",
    "                \n",
    "                \n",
    "                \n",
    "                fig = make_subplots(rows=3, cols=1, shared_xaxes=True, shared_yaxes=False, horizontal_spacing=0.05, vertical_spacing=0.01)\n",
    "                fig.update_layout(width=700, height=1200, barmode='overlay', title=f'{title(df)} RSI{periods} {str(df.index[0]).split()[0]} - {str(df.index[-1]).split()[0]}')\n",
    "                \n",
    "                fig.add_trace(ly_candlechart(df).data[0], row=3, col=1)\n",
    "\n",
    "                taplot = go.Scatter(\n",
    "                x=df.index,\n",
    "                y=df[f'ta_rsi_{periods[0]}'],\n",
    "                name = f'ta RSI{periods[0]}'\n",
    "                )\n",
    "                    \n",
    "                fig.add_trace(taplot, row=1, col=1)\n",
    "                \n",
    "                if mine:\n",
    "                        \n",
    "                    myplot = go.Scatter(\n",
    "                    x=df.index,\n",
    "                    y=df[f'my_rsi_{periods[0]}'],\n",
    "                    name = f'my RSI{periods[0]}'\n",
    "                    )\n",
    "                \n",
    "                    fig.add_trace(myplot, row=1, col=1)\n",
    "                \n",
    "                tacorrplot = go.Scatter(\n",
    "                x=df.index,\n",
    "                y=df[f'corr_ta_rsi_{periods[alp]}'],\n",
    "                name = f'corr ta RSI{periods[alp]}'\n",
    "                )\n",
    "                \n",
    "                fig.add_trace(tacorrplot, row=2, col=1)\n",
    "                \n",
    "                if mine:\n",
    "                    \n",
    "                    mycorrplot = go.Scatter(\n",
    "                    x=df.index,\n",
    "                    y=df[f'corr_my_rsi_{periods[alp]}'],\n",
    "                    name = f'corr my RSI{periods[alp]}'\n",
    "                    )\n",
    "                    \n",
    "                    fig.add_trace(mycorrplot, row=2, col=1)\n",
    "                    \n",
    "                if levels:\n",
    "                    fig.add_trace(level1, col=1, row=1)\n",
    "                    fig.add_trace(level2, col=1, row=1)\n",
    "            \n",
    "        return fig\n",
    "        \n",
    "    elif mpl:\n",
    "        plt.plot(df['my_rsi'])\n",
    "        plt.plot(df['ta_rsi'])\n",
    "        return plt\n",
    "    \n",
    "    elif sns:\n",
    "        sns.lineplot(x=\"tradedate\", y=\"my_rsi\", data=df)\n",
    "        sns.lineplot(x=\"tradedate\", y=\"ta_rsi\", data=df)\n",
    "\n",
    "\n",
    "def fig_macd(df: pd.DataFrame,\n",
    "             periods: list = [12, 26, 9],\n",
    "             graph: bool = False,\n",
    "             mpl: bool = False, \n",
    "             sns: bool = False,\n",
    "             ly: bool = False):\n",
    "    \n",
    "    \"\"\"\n",
    "    Plotting MACD indicator by itself or creates matplotlib subplot\n",
    "    :param df: dataframe, *index must be datetime\n",
    "    :param periods: list of all periods of MACD that are in the dataframe\n",
    "    :param only_macd: parameter if to plot only MACD indicator, without candlestick chart\n",
    "    :param mpl: use matplotlib library\n",
    "    :param sns: use seaborn library\n",
    "    :param ly: use plotly library\n",
    "    :return: \n",
    "    \"\"\"\n",
    "    \n",
    "    assert mpl + sns + ly <= 1, \"You can choose only one library to plot\"\n",
    "    assert len(periods) > 0, \"You need to choose at least one period\"\n",
    "    assert all([f'macd_{period}' in df.columns for period in periods]), \"You need to calculate MACD first\"\n",
    "    \n",
    "    "
   ],
   "metadata": {
    "collapsed": false,
    "is_executing": true
   },
   "id": "592bab8dccb7d8af"
  },
  {
   "cell_type": "markdown",
   "source": [
    "# Adding functions for changing candle's periods"
   ],
   "metadata": {
    "collapsed": false
   },
   "id": "2d0f7dd571f91005"
  },
  {
   "cell_type": "code",
   "execution_count": null,
   "outputs": [],
   "source": [
    "def weekly_candles(df):\n",
    "    \n",
    "    \"\"\"\n",
    "    Changing candle's period to week\n",
    "    \"\"\"\n",
    "    \n",
    "    # Ensure the index is a datetime index\n",
    "    df.index = pd.to_datetime(df.index)\n",
    "\n",
    "    weekly_df = df.resample('W').agg(\n",
    "        {\n",
    "        'open': 'first', \n",
    "        'high': 'max', \n",
    "        'low': 'min', \n",
    "        'close': 'last', \n",
    "        'volume': 'sum',\n",
    "        'name': 'first'\n",
    "        }\n",
    "    )\n",
    "\n",
    "    return weekly_df\n",
    "\n",
    "\n",
    "def monthly_candles(df):\n",
    "    \n",
    "    \"\"\"\n",
    "    Changing candle's period to month\n",
    "    \"\"\"\n",
    "    \n",
    "    # Ensure the index is a datetime index\n",
    "    df.index = pd.to_datetime(df.index)\n",
    "\n",
    "    monthly_df = df.resample('M').agg(\n",
    "        {\n",
    "        'open': 'first', \n",
    "        'high': 'max', \n",
    "        'low': 'min', \n",
    "        'close': 'last', \n",
    "        'volume': 'sum',\n",
    "        'name': 'first'\n",
    "        }\n",
    "    )\n",
    "\n",
    "    return monthly_df\n",
    "\n"
   ],
   "metadata": {
    "collapsed": false,
    "is_executing": true
   },
   "id": "fbef8f08b6ff25da"
  },
  {
   "cell_type": "markdown",
   "source": [
    "**call this function if you want to use yahoo finance**"
   ],
   "metadata": {
    "collapsed": false
   },
   "id": "b24f12f7a384900c"
  },
  {
   "cell_type": "code",
   "execution_count": null,
   "outputs": [],
   "source": [
    "yndxdf, flotdf = init()\n",
    "yndxdf.drop(['boardid'], axis=1, inplace=True)"
   ],
   "metadata": {
    "collapsed": false,
    "is_executing": true
   },
   "id": "ed062331c5dcd748"
  },
  {
   "cell_type": "code",
   "execution_count": null,
   "outputs": [],
   "source": [
    "yndxdf = add_rsi(yndxdf, periods=[7, 14, 25, 40])\n",
    "with np.errstate(all='ignore'):\n",
    "    yndxdf = add_corr(yndxdf, periods=[7, 14, 25, 40], memories={7: 10, 14: 20, 25: 30, 40: 45}, cut={\"who\": [\"my\"], \"how\": \"front\", \"amount\": 20}, mine=True)\n",
    "yndxdf.reset_index(drop=True, inplace=True)\n",
    "yndxdf.to_json('yndx.json')"
   ],
   "metadata": {
    "collapsed": false,
    "is_executing": true
   },
   "id": "e805b44444945cd9"
  },
  {
   "cell_type": "markdown",
   "source": [
    "# Visualising the data using functions above"
   ],
   "metadata": {
    "collapsed": false
   },
   "id": "4ba522f72242e920"
  },
  {
   "cell_type": "markdown",
   "source": [
    "**Plotting each graph as a test, 2022 January - 2023 January**"
   ],
   "metadata": {
    "collapsed": false
   },
   "id": "86fa0d8b5a927dd2"
  },
  {
   "cell_type": "code",
   "execution_count": null,
   "outputs": [],
   "source": [
    "flotdf = flotdf['2021-01-01':'2022-01-10']\n",
    "yndxdf = yndxdf['2021-01-01':'2022-01-10']"
   ],
   "metadata": {
    "collapsed": false,
    "is_executing": true
   },
   "id": "535ea6d2eff8dc45"
  },
  {
   "cell_type": "code",
   "execution_count": null,
   "outputs": [],
   "source": [
    "ly_candlechart(weekly_candles(flotdf)).show()\n",
    "mpl_candlechart(weekly_candles(flotdf))"
   ],
   "metadata": {
    "collapsed": false,
    "is_executing": true
   },
   "id": "aeba670c499493ea"
  },
  {
   "cell_type": "code",
   "execution_count": null,
   "outputs": [],
   "source": [
    "ly_candlechart(weekly_candles(yndxdf)).show()\n",
    "mpl_candlechart(weekly_candles(yndxdf))"
   ],
   "metadata": {
    "collapsed": false,
    "is_executing": true
   },
   "id": "f442a0de44d8c819"
  },
  {
   "cell_type": "markdown",
   "source": [
    "Let's test the RSI indicator"
   ],
   "metadata": {
    "collapsed": false
   },
   "id": "3643ec23ceed74ac"
  },
  {
   "cell_type": "markdown",
   "source": [
    "# RSI indicator function testing\n",
    "We're about to compare my RSI indicator with the perfect one to check anomalies\n",
    "\n",
    "* **ta** - perfect RSI indicator\n",
    "* **my** - my RSI indicator\n",
    "* **corr** - correlation between **ta** or **my** RSI and the price\n",
    "\n",
    "Lets look at them closely and then look what happens if we has COVID pandemic\n"
   ],
   "metadata": {
    "collapsed": false
   },
   "id": "6fae976a5654118"
  },
  {
   "cell_type": "code",
   "execution_count": null,
   "outputs": [],
   "source": [
    "yndxdf, flotdf = init_yahoo(index1='AAPL', index2='GOOG', name1='Apple', name2='Google')\n",
    "\n",
    "flotdf = flotdf['2022-01-01':'2023-01-10']\n",
    "yndxdf = yndxdf['2022-01-01':'2023-01-10']\n",
    "\n",
    "yndxdf = add_rsi(yndxdf, periods=[7, 14])\n",
    "flotdf = add_rsi(flotdf, periods=[7, 14])\n",
    "with np.errstate(all='ignore'):\n",
    "    yndxdf = add_corr(yndxdf, periods=[7, 14], memories={7: 60, 14: 120}, cut={\"who\": [\"my\"], \"how\": \"front\", \"amount\": 20}, mine=True)\n",
    "with np.errstate(all='ignore'):\n",
    "    flotdf = add_corr(flotdf, periods=[7, 14], memories={7: 60, 14: 120}, cut={\"who\": [\"my\"], \"how\": \"front\", \"amount\": 20}, mine=True)\n",
    "fig_rsi(yndxdf, periods=[7, 14], ly=True, graph=True, mine=True, levels=True).show()\n",
    "fig_rsi(flotdf, periods=[7, 14], ly=True, graph=True, mine=True, levels=True).show()"
   ],
   "metadata": {
    "collapsed": false,
    "is_executing": true
   },
   "id": "1363de6959e67a85"
  },
  {
   "cell_type": "code",
   "execution_count": null,
   "outputs": [],
   "source": [
    "yndxdf, flotdf = init_yahoo(index1='AAPL', index2='GOOG', name1='Apple', name2='Google')\n",
    "\n",
    "flotdf = flotdf['2022-01-01':'2023-01-10']\n",
    "yndxdf = yndxdf['2022-01-01':'2023-01-10']\n",
    "\n",
    "yndxdf = add_rsi(yndxdf, periods=[7, 14])\n",
    "flotdf = add_rsi(flotdf, periods=[7, 14])\n",
    "with np.errstate(all='ignore'):\n",
    "    yndxdf = add_corr(yndxdf, periods=[7, 14], memories={7: 30, 14: 45}, cut={\"who\": [\"my\"], \"how\": \"front\", \"amount\": 20}, mine=True)\n",
    "with np.errstate(all='ignore'):\n",
    "    flotdf = add_corr(flotdf, periods=[7, 14], memories={7: 30, 14: 45}, cut={\"who\": [\"my\"], \"how\": \"front\", \"amount\": 20}, mine=True)\n",
    "fig_rsi(yndxdf, periods=[7, 14], ly=True, graph=True, mine=True, levels=True).show()\n",
    "fig_rsi(flotdf, periods=[7, 14], ly=True, graph=True, mine=True, levels=True).show()"
   ],
   "metadata": {
    "collapsed": false,
    "is_executing": true
   },
   "id": "c39b83ab0f4cb3e2"
  },
  {
   "cell_type": "code",
   "execution_count": null,
   "outputs": [],
   "source": [
    "yndxdf, flotdf = init_yahoo(index1='AAPL', index2='GOOG', name1='Apple', name2='Google')\n",
    "\n",
    "flotdf = flotdf['2021-01-01':'2022-01-10']\n",
    "yndxdf = yndxdf['2021-01-01':'2022-01-10']\n",
    "\n",
    "yndxdf = add_rsi(yndxdf, periods=[7, 14])\n",
    "flotdf = add_rsi(flotdf, periods=[7, 14])\n",
    "with np.errstate(all='ignore'):\n",
    "    yndxdf = add_corr(yndxdf, periods=[7, 14], memories={7: 7, 14: 14}, cut={\"who\": [\"my\"], \"how\": \"front\", \"amount\": 20}, mine=True)\n",
    "with np.errstate(all='ignore'):\n",
    "    flotdf = add_corr(flotdf, periods=[7, 14], memories={7: 7, 14: 14}, cut={\"who\": [\"my\"], \"how\": \"front\", \"amount\": 20}, mine=True)"
   ],
   "metadata": {
    "collapsed": false,
    "is_executing": true
   },
   "id": "743586b226a46a44"
  },
  {
   "cell_type": "code",
   "execution_count": null,
   "outputs": [],
   "source": [
    "fig_rsi(yndxdf, periods=[7, 14], ly=True, graph=True, mine=True, levels=True).show()"
   ],
   "metadata": {
    "collapsed": false,
    "is_executing": true
   },
   "id": "edc5ae34b15ab81a"
  },
  {
   "cell_type": "code",
   "execution_count": null,
   "outputs": [],
   "source": [
    "fig_rsi(flotdf, periods=[7, 14], ly=True, graph=True, mine=True, levels=True).show()"
   ],
   "metadata": {
    "collapsed": false,
    "is_executing": true
   },
   "id": "fae0abbe1a4fb64"
  },
  {
   "cell_type": "code",
   "execution_count": null,
   "outputs": [],
   "source": [
    "fig_rsi(flotdf, periods=[7, 14], ly=True, graph=True, mine=False, levels=True).show()"
   ],
   "metadata": {
    "collapsed": false,
    "is_executing": true
   },
   "id": "d07dd0ecbf0b8ed5"
  },
  {
   "cell_type": "markdown",
   "source": [
    "**obviously, the correlation of my RSI is not perfect, if we try looking at them closely.**\n",
    "then lets pick from our data small part"
   ],
   "metadata": {
    "collapsed": false
   },
   "id": "958ed86dfa155e52"
  },
  {
   "cell_type": "code",
   "execution_count": null,
   "outputs": [],
   "source": [
    "yndxdf = yndxdf['2021-09-01':'2022-01-10']\n",
    "flotdf = flotdf['2021-09-01':'2022-01-10']"
   ],
   "metadata": {
    "collapsed": false,
    "is_executing": true
   },
   "id": "b70654d32b151d56"
  },
  {
   "cell_type": "code",
   "execution_count": null,
   "outputs": [],
   "source": [
    "fig_rsi(yndxdf, periods=[7], ly=True, graph=True, mine=True, levels=True).show()\n",
    "fig_rsi(yndxdf, periods=[14], ly=True, graph=True, mine=True, levels=True).show()"
   ],
   "metadata": {
    "collapsed": false,
    "is_executing": true
   },
   "id": "fce1c7b84928c3a1"
  },
  {
   "cell_type": "code",
   "execution_count": null,
   "outputs": [],
   "source": [
    "fig_rsi(flotdf, periods=[7], ly=True, graph=True, mine=True, levels=True).show()\n",
    "fig_rsi(flotdf, periods=[14], ly=True, graph=True, mine=True, levels=True).show()"
   ],
   "metadata": {
    "collapsed": false,
    "is_executing": true
   },
   "id": "43a019a5db0c0caf"
  },
  {
   "cell_type": "markdown",
   "source": [
    "Since now, lets use only the perfect one, to avoid any mistakes"
   ],
   "metadata": {
    "collapsed": false
   },
   "id": "1990042d3b794e0b"
  },
  {
   "cell_type": "markdown",
   "source": [
    "# Plot each graph during the COVID pandemic, 2021 September - 2023 January "
   ],
   "metadata": {
    "collapsed": false
   },
   "id": "89bb812c6f789588"
  },
  {
   "cell_type": "code",
   "execution_count": null,
   "outputs": [],
   "source": [
    "yndxdf, flotdf = init()\n",
    "flotdf = flotdf['2021-09-01':'2023-01-10']\n",
    "yndxdf = yndxdf['2021-09-01':'2023-01-10']"
   ],
   "metadata": {
    "collapsed": false,
    "is_executing": true
   },
   "id": "874c5c07d8828607"
  },
  {
   "cell_type": "code",
   "execution_count": null,
   "outputs": [],
   "source": [
    "ly_candlechart(weekly_candles(yndxdf)).show()\n",
    "mpl_candlechart(weekly_candles(yndxdf))"
   ],
   "metadata": {
    "collapsed": false,
    "is_executing": true
   },
   "id": "58a107baccc62757"
  },
  {
   "cell_type": "code",
   "execution_count": null,
   "outputs": [],
   "source": [
    "ly_candlechart(weekly_candles(flotdf)).show()\n",
    "mpl_candlechart(weekly_candles(flotdf))"
   ],
   "metadata": {
    "collapsed": false,
    "is_executing": true
   },
   "id": "3788ce14a7631349"
  },
  {
   "cell_type": "markdown",
   "source": [],
   "metadata": {
    "collapsed": false
   },
   "id": "a4e46eddda180c44"
  },
  {
   "cell_type": "markdown",
   "source": [
    "As you can see, the graphs are almost the same, Moscow Exchange closed ot the begging of 2022 year\n",
    "In both cases, the price is decreasing, but the price of Sovcomflot is decreasing much faster than the price of Yandex\n",
    "Price of Yandex fell from 6000 to 2000, while the price of Sovcomflot fell from 90 to 40.\n"
   ],
   "metadata": {
    "collapsed": false
   },
   "id": "b078ffaec0eb7b12"
  },
  {
   "cell_type": "markdown",
   "source": [],
   "metadata": {
    "collapsed": false
   },
   "id": "788da9a1c0ec0c7f"
  },
  {
   "cell_type": "code",
   "execution_count": null,
   "outputs": [],
   "source": [
    "yndxdf = add_rsi(yndxdf, periods=[7,14])\n",
    "\n",
    "with np.errstate(all='ignore'):\n",
    "    yndxdf = add_corr(yndxdf, periods=[7, 14], memories={7: 45, 14: 45}, cut={\"who\": [\"my\"], \"how\": \"front\", \"amount\": 20}, mine=True)\n",
    "    \n",
    "fig_rsi(yndxdf, periods=[7, 14], ly=True, graph=True, mine=True, levels=True).show()"
   ],
   "metadata": {
    "collapsed": false,
    "is_executing": true
   },
   "id": "e85c633a0f0eedd1"
  },
  {
   "cell_type": "code",
   "execution_count": null,
   "outputs": [],
   "source": [
    "yndxdf, flotdf = init()\n",
    "\n"
   ],
   "metadata": {
    "collapsed": false,
    "is_executing": true
   },
   "id": "d708678ee5628f04"
  }
 ],
 "metadata": {
  "kernelspec": {
   "display_name": "Python 3",
   "language": "python",
   "name": "python3"
  },
  "language_info": {
   "codemirror_mode": {
    "name": "ipython",
    "version": 2
   },
   "file_extension": ".py",
   "mimetype": "text/x-python",
   "name": "python",
   "nbconvert_exporter": "python",
   "pygments_lexer": "ipython2",
   "version": "2.7.6"
  }
 },
 "nbformat": 4,
 "nbformat_minor": 5
}
