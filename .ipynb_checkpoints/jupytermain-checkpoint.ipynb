{
 "cells": [
  {
   "cell_type": "code",
   "execution_count": 31,
   "id": "4a6707f7-2429-4dfc-83a2-0867fbe35c52",
   "metadata": {
    "ExecuteTime": {
     "end_time": "2023-12-14T02:34:28.431862600Z",
     "start_time": "2023-12-14T02:34:13.704911600Z"
    }
   },
   "outputs": [
    {
     "name": "stdout",
     "output_type": "stream",
     "text": [
      "Requirement already satisfied: pandas in c:\\users\\zheny\\desktop\\deploy\\venv\\lib\\site-packages (2.1.4)\n",
      "Requirement already satisfied: numpy<2,>=1.23.2 in c:\\users\\zheny\\desktop\\deploy\\venv\\lib\\site-packages (from pandas) (1.26.2)\n",
      "Requirement already satisfied: python-dateutil>=2.8.2 in c:\\users\\zheny\\desktop\\deploy\\venv\\lib\\site-packages (from pandas) (2.8.2)\n",
      "Requirement already satisfied: pytz>=2020.1 in c:\\users\\zheny\\desktop\\deploy\\venv\\lib\\site-packages (from pandas) (2023.3.post1)\n",
      "Requirement already satisfied: tzdata>=2022.1 in c:\\users\\zheny\\desktop\\deploy\\venv\\lib\\site-packages (from pandas) (2023.3)\n",
      "Requirement already satisfied: six>=1.5 in c:\\users\\zheny\\desktop\\deploy\\venv\\lib\\site-packages (from python-dateutil>=2.8.2->pandas) (1.16.0)\n"
     ]
    },
    {
     "name": "stderr",
     "output_type": "stream",
     "text": [
      "\n",
      "[notice] A new release of pip available: 22.3.1 -> 23.3.1\n",
      "[notice] To update, run: python.exe -m pip install --upgrade pip\n"
     ]
    },
    {
     "name": "stdout",
     "output_type": "stream",
     "text": [
      "Requirement already satisfied: pandas-ta in c:\\users\\zheny\\desktop\\deploy\\venv\\lib\\site-packages (0.3.14b0)\n",
      "Requirement already satisfied: pandas in c:\\users\\zheny\\desktop\\deploy\\venv\\lib\\site-packages (from pandas-ta) (2.1.4)\n",
      "Requirement already satisfied: numpy<2,>=1.23.2 in c:\\users\\zheny\\desktop\\deploy\\venv\\lib\\site-packages (from pandas->pandas-ta) (1.26.2)\n",
      "Requirement already satisfied: python-dateutil>=2.8.2 in c:\\users\\zheny\\desktop\\deploy\\venv\\lib\\site-packages (from pandas->pandas-ta) (2.8.2)\n",
      "Requirement already satisfied: pytz>=2020.1 in c:\\users\\zheny\\desktop\\deploy\\venv\\lib\\site-packages (from pandas->pandas-ta) (2023.3.post1)\n",
      "Requirement already satisfied: tzdata>=2022.1 in c:\\users\\zheny\\desktop\\deploy\\venv\\lib\\site-packages (from pandas->pandas-ta) (2023.3)\n",
      "Requirement already satisfied: six>=1.5 in c:\\users\\zheny\\desktop\\deploy\\venv\\lib\\site-packages (from python-dateutil>=2.8.2->pandas->pandas-ta) (1.16.0)\n"
     ]
    },
    {
     "name": "stderr",
     "output_type": "stream",
     "text": [
      "\n",
      "[notice] A new release of pip available: 22.3.1 -> 23.3.1\n",
      "[notice] To update, run: python.exe -m pip install --upgrade pip\n"
     ]
    },
    {
     "name": "stdout",
     "output_type": "stream",
     "text": [
      "Requirement already satisfied: plotly in c:\\users\\zheny\\desktop\\deploy\\venv\\lib\\site-packages (5.18.0)\n",
      "Requirement already satisfied: tenacity>=6.2.0 in c:\\users\\zheny\\desktop\\deploy\\venv\\lib\\site-packages (from plotly) (8.2.3)\n",
      "Requirement already satisfied: packaging in c:\\users\\zheny\\desktop\\deploy\\venv\\lib\\site-packages (from plotly) (23.2)\n"
     ]
    },
    {
     "name": "stderr",
     "output_type": "stream",
     "text": [
      "\n",
      "[notice] A new release of pip available: 22.3.1 -> 23.3.1\n",
      "[notice] To update, run: python.exe -m pip install --upgrade pip\n"
     ]
    },
    {
     "name": "stdout",
     "output_type": "stream",
     "text": [
      "Requirement already satisfied: mplfinance in c:\\users\\zheny\\desktop\\deploy\\venv\\lib\\site-packages (0.12.10b0)\n",
      "Requirement already satisfied: matplotlib in c:\\users\\zheny\\desktop\\deploy\\venv\\lib\\site-packages (from mplfinance) (3.8.2)\n",
      "Requirement already satisfied: pandas in c:\\users\\zheny\\desktop\\deploy\\venv\\lib\\site-packages (from mplfinance) (2.1.4)\n",
      "Requirement already satisfied: contourpy>=1.0.1 in c:\\users\\zheny\\desktop\\deploy\\venv\\lib\\site-packages (from matplotlib->mplfinance) (1.2.0)\n",
      "Requirement already satisfied: cycler>=0.10 in c:\\users\\zheny\\desktop\\deploy\\venv\\lib\\site-packages (from matplotlib->mplfinance) (0.12.1)\n",
      "Requirement already satisfied: fonttools>=4.22.0 in c:\\users\\zheny\\desktop\\deploy\\venv\\lib\\site-packages (from matplotlib->mplfinance) (4.46.0)\n",
      "Requirement already satisfied: kiwisolver>=1.3.1 in c:\\users\\zheny\\desktop\\deploy\\venv\\lib\\site-packages (from matplotlib->mplfinance) (1.4.5)\n",
      "Requirement already satisfied: numpy<2,>=1.21 in c:\\users\\zheny\\desktop\\deploy\\venv\\lib\\site-packages (from matplotlib->mplfinance) (1.26.2)\n",
      "Requirement already satisfied: packaging>=20.0 in c:\\users\\zheny\\desktop\\deploy\\venv\\lib\\site-packages (from matplotlib->mplfinance) (23.2)\n",
      "Requirement already satisfied: pillow>=8 in c:\\users\\zheny\\desktop\\deploy\\venv\\lib\\site-packages (from matplotlib->mplfinance) (10.1.0)\n",
      "Requirement already satisfied: pyparsing>=2.3.1 in c:\\users\\zheny\\desktop\\deploy\\venv\\lib\\site-packages (from matplotlib->mplfinance) (3.1.1)\n",
      "Requirement already satisfied: python-dateutil>=2.7 in c:\\users\\zheny\\desktop\\deploy\\venv\\lib\\site-packages (from matplotlib->mplfinance) (2.8.2)\n",
      "Requirement already satisfied: pytz>=2020.1 in c:\\users\\zheny\\desktop\\deploy\\venv\\lib\\site-packages (from pandas->mplfinance) (2023.3.post1)\n",
      "Requirement already satisfied: tzdata>=2022.1 in c:\\users\\zheny\\desktop\\deploy\\venv\\lib\\site-packages (from pandas->mplfinance) (2023.3)\n",
      "Requirement already satisfied: six>=1.5 in c:\\users\\zheny\\desktop\\deploy\\venv\\lib\\site-packages (from python-dateutil>=2.7->matplotlib->mplfinance) (1.16.0)\n"
     ]
    },
    {
     "name": "stderr",
     "output_type": "stream",
     "text": [
      "\n",
      "[notice] A new release of pip available: 22.3.1 -> 23.3.1\n",
      "[notice] To update, run: python.exe -m pip install --upgrade pip\n"
     ]
    },
    {
     "name": "stdout",
     "output_type": "stream",
     "text": [
      "Requirement already satisfied: matplotlib in c:\\users\\zheny\\desktop\\deploy\\venv\\lib\\site-packages (3.8.2)\n",
      "Requirement already satisfied: contourpy>=1.0.1 in c:\\users\\zheny\\desktop\\deploy\\venv\\lib\\site-packages (from matplotlib) (1.2.0)\n",
      "Requirement already satisfied: cycler>=0.10 in c:\\users\\zheny\\desktop\\deploy\\venv\\lib\\site-packages (from matplotlib) (0.12.1)\n",
      "Requirement already satisfied: fonttools>=4.22.0 in c:\\users\\zheny\\desktop\\deploy\\venv\\lib\\site-packages (from matplotlib) (4.46.0)\n",
      "Requirement already satisfied: kiwisolver>=1.3.1 in c:\\users\\zheny\\desktop\\deploy\\venv\\lib\\site-packages (from matplotlib) (1.4.5)\n",
      "Requirement already satisfied: numpy<2,>=1.21 in c:\\users\\zheny\\desktop\\deploy\\venv\\lib\\site-packages (from matplotlib) (1.26.2)\n",
      "Requirement already satisfied: packaging>=20.0 in c:\\users\\zheny\\desktop\\deploy\\venv\\lib\\site-packages (from matplotlib) (23.2)\n",
      "Requirement already satisfied: pillow>=8 in c:\\users\\zheny\\desktop\\deploy\\venv\\lib\\site-packages (from matplotlib) (10.1.0)\n",
      "Requirement already satisfied: pyparsing>=2.3.1 in c:\\users\\zheny\\desktop\\deploy\\venv\\lib\\site-packages (from matplotlib) (3.1.1)\n",
      "Requirement already satisfied: python-dateutil>=2.7 in c:\\users\\zheny\\desktop\\deploy\\venv\\lib\\site-packages (from matplotlib) (2.8.2)\n",
      "Requirement already satisfied: six>=1.5 in c:\\users\\zheny\\desktop\\deploy\\venv\\lib\\site-packages (from python-dateutil>=2.7->matplotlib) (1.16.0)\n"
     ]
    },
    {
     "name": "stderr",
     "output_type": "stream",
     "text": [
      "\n",
      "[notice] A new release of pip available: 22.3.1 -> 23.3.1\n",
      "[notice] To update, run: python.exe -m pip install --upgrade pip\n"
     ]
    },
    {
     "name": "stdout",
     "output_type": "stream",
     "text": [
      "Requirement already satisfied: seaborn in c:\\users\\zheny\\desktop\\deploy\\venv\\lib\\site-packages (0.13.0)\n",
      "Requirement already satisfied: numpy!=1.24.0,>=1.20 in c:\\users\\zheny\\desktop\\deploy\\venv\\lib\\site-packages (from seaborn) (1.26.2)\n",
      "Requirement already satisfied: pandas>=1.2 in c:\\users\\zheny\\desktop\\deploy\\venv\\lib\\site-packages (from seaborn) (2.1.4)\n",
      "Requirement already satisfied: matplotlib!=3.6.1,>=3.3 in c:\\users\\zheny\\desktop\\deploy\\venv\\lib\\site-packages (from seaborn) (3.8.2)\n",
      "Requirement already satisfied: contourpy>=1.0.1 in c:\\users\\zheny\\desktop\\deploy\\venv\\lib\\site-packages (from matplotlib!=3.6.1,>=3.3->seaborn) (1.2.0)\n",
      "Requirement already satisfied: cycler>=0.10 in c:\\users\\zheny\\desktop\\deploy\\venv\\lib\\site-packages (from matplotlib!=3.6.1,>=3.3->seaborn) (0.12.1)\n",
      "Requirement already satisfied: fonttools>=4.22.0 in c:\\users\\zheny\\desktop\\deploy\\venv\\lib\\site-packages (from matplotlib!=3.6.1,>=3.3->seaborn) (4.46.0)\n",
      "Requirement already satisfied: kiwisolver>=1.3.1 in c:\\users\\zheny\\desktop\\deploy\\venv\\lib\\site-packages (from matplotlib!=3.6.1,>=3.3->seaborn) (1.4.5)\n",
      "Requirement already satisfied: packaging>=20.0 in c:\\users\\zheny\\desktop\\deploy\\venv\\lib\\site-packages (from matplotlib!=3.6.1,>=3.3->seaborn) (23.2)\n",
      "Requirement already satisfied: pillow>=8 in c:\\users\\zheny\\desktop\\deploy\\venv\\lib\\site-packages (from matplotlib!=3.6.1,>=3.3->seaborn) (10.1.0)\n",
      "Requirement already satisfied: pyparsing>=2.3.1 in c:\\users\\zheny\\desktop\\deploy\\venv\\lib\\site-packages (from matplotlib!=3.6.1,>=3.3->seaborn) (3.1.1)\n",
      "Requirement already satisfied: python-dateutil>=2.7 in c:\\users\\zheny\\desktop\\deploy\\venv\\lib\\site-packages (from matplotlib!=3.6.1,>=3.3->seaborn) (2.8.2)\n",
      "Requirement already satisfied: pytz>=2020.1 in c:\\users\\zheny\\desktop\\deploy\\venv\\lib\\site-packages (from pandas>=1.2->seaborn) (2023.3.post1)\n",
      "Requirement already satisfied: tzdata>=2022.1 in c:\\users\\zheny\\desktop\\deploy\\venv\\lib\\site-packages (from pandas>=1.2->seaborn) (2023.3)\n",
      "Requirement already satisfied: six>=1.5 in c:\\users\\zheny\\desktop\\deploy\\venv\\lib\\site-packages (from python-dateutil>=2.7->matplotlib!=3.6.1,>=3.3->seaborn) (1.16.0)\n"
     ]
    },
    {
     "name": "stderr",
     "output_type": "stream",
     "text": [
      "\n",
      "[notice] A new release of pip available: 22.3.1 -> 23.3.1\n",
      "[notice] To update, run: python.exe -m pip install --upgrade pip\n",
      "ERROR: Could not find a version that satisfies the requirement plotly.io (from versions: none)\n",
      "ERROR: No matching distribution found for plotly.io\n",
      "\n",
      "[notice] A new release of pip available: 22.3.1 -> 23.3.1\n",
      "[notice] To update, run: python.exe -m pip install --upgrade pip\n"
     ]
    },
    {
     "name": "stdout",
     "output_type": "stream",
     "text": [
      "Requirement already satisfied: kaleido in c:\\users\\zheny\\desktop\\deploy\\venv\\lib\\site-packages (0.2.1)\n"
     ]
    },
    {
     "name": "stderr",
     "output_type": "stream",
     "text": [
      "\n",
      "[notice] A new release of pip available: 22.3.1 -> 23.3.1\n",
      "[notice] To update, run: python.exe -m pip install --upgrade pip\n"
     ]
    }
   ],
   "source": [
    "!\n",
    "!pip install pandas\n",
    "!pip install pandas-ta\n",
    "!pip install plotly\n",
    "!pip install mplfinance\n",
    "!pip install matplotlib\n",
    "!pip install seaborn\n",
    "!pip install plotly.io\n",
    "!pip install -U kaleido"
   ]
  },
  {
   "cell_type": "markdown",
   "id": "40b46ab32f945ac1",
   "metadata": {
    "collapsed": false,
    "jupyter": {
     "outputs_hidden": false
    }
   },
   "source": [
    "# Importing main libraries"
   ]
  },
  {
   "cell_type": "code",
   "execution_count": 32,
   "id": "initial_id",
   "metadata": {
    "ExecuteTime": {
     "end_time": "2023-12-14T02:34:28.735423900Z",
     "start_time": "2023-12-14T02:34:28.428862200Z"
    }
   },
   "outputs": [],
   "source": [
    "from datetime import datetime\n",
    "import os\n",
    "import numpy as np\n",
    "import plotly.graph_objects as go\n",
    "import plotly.express as px\n",
    "from plotly.subplots import make_subplots\n",
    "import matplotlib.pyplot as plt\n",
    "import seaborn as sns\n",
    "import pandas as pd\n",
    "import pandas_ta as ta\n",
    "import mplfinance as mpf\n",
    "import yfinance as yf\n",
    "import plotly.io as pio\n",
    "from kaleido import *"
   ]
  },
  {
   "cell_type": "markdown",
   "id": "803ab162bfe738fe",
   "metadata": {
    "collapsed": false,
    "jupyter": {
     "outputs_hidden": false
    }
   },
   "source": [
    "# Importing datasets\n",
    "Parsed data from Moscow Exchange\n",
    "Stock market shares of Yandex and Sovcomflot"
   ]
  },
  {
   "cell_type": "code",
   "execution_count": 33,
   "id": "29d6e15d30e11f65",
   "metadata": {
    "ExecuteTime": {
     "end_time": "2023-12-14T02:34:28.738195500Z",
     "start_time": "2023-12-14T02:34:28.736691Z"
    },
    "collapsed": false,
    "jupyter": {
     "outputs_hidden": false
    }
   },
   "outputs": [],
   "source": [
    "def get_data():\n",
    "    \n",
    "    assert 'YNDX.csv' and 'FLOT.csv' in os.listdir(), \"You need to get the datasets first\"\n",
    "    \n",
    "    yndxdf = pd.read_csv('YNDX.csv', sep=';')\n",
    "    flotdf = pd.read_csv('FLOT.csv', sep=';')\n",
    "    \n",
    "    yndxdf['name'], flotdf['name'] = 'Yandex', 'Sovcomflot'\n",
    "    \n",
    "    return yndxdf, flotdf"
   ]
  },
  {
   "cell_type": "markdown",
   "id": "18f89e855335b56a",
   "metadata": {
    "collapsed": false,
    "jupyter": {
     "outputs_hidden": false
    }
   },
   "source": [
    "# Data preprocessing\n",
    "changing date format, setting index"
   ]
  },
  {
   "cell_type": "code",
   "execution_count": 34,
   "id": "84da7b33e24f37c9",
   "metadata": {
    "ExecuteTime": {
     "end_time": "2023-12-14T02:34:28.747358800Z",
     "start_time": "2023-12-14T02:34:28.741098Z"
    },
    "collapsed": false,
    "jupyter": {
     "outputs_hidden": false
    }
   },
   "outputs": [],
   "source": [
    "def preprocess(df: pd.DataFrame) -> pd.DataFrame:\n",
    "\n",
    "    \"\"\"\n",
    "    Preprocessing the dataframe\n",
    "    :param df: dataframe, *index must be datetime\n",
    "    :return: dataframe with datetime index\n",
    "    \"\"\"\n",
    "    \n",
    "    df['tradedate'] = pd.to_datetime(df['tradedate'], yearfirst=True, format='%Y-%m-%d')\n",
    "    df.set_index('tradedate', inplace=True)\n",
    "    \n",
    "    return df"
   ]
  },
  {
   "cell_type": "markdown",
   "id": "32258531b029119",
   "metadata": {
    "collapsed": false,
    "jupyter": {
     "outputs_hidden": false
    }
   },
   "source": [
    "# Initialising the data\n",
    "making quick formula"
   ]
  },
  {
   "cell_type": "code",
   "execution_count": 35,
   "id": "1692f3687c5d937d",
   "metadata": {
    "ExecuteTime": {
     "end_time": "2023-12-14T02:34:28.747358800Z",
     "start_time": "2023-12-14T02:34:28.743602900Z"
    },
    "collapsed": false,
    "jupyter": {
     "outputs_hidden": false
    }
   },
   "outputs": [],
   "source": [
    "def init():\n",
    "    yndxdf, flotdf = get_data()\n",
    "    yndxdf = preprocess(yndxdf)\n",
    "    flotdf = preprocess(flotdf)\n",
    "    return yndxdf, flotdf"
   ]
  },
  {
   "cell_type": "code",
   "execution_count": 36,
   "id": "f1d5d332c510bc42",
   "metadata": {
    "ExecuteTime": {
     "end_time": "2023-12-14T02:34:28.750925900Z",
     "start_time": "2023-12-14T02:34:28.746358700Z"
    },
    "collapsed": false,
    "jupyter": {
     "outputs_hidden": false
    }
   },
   "outputs": [],
   "source": [
    "def title(self):\n",
    "    return self['name'].iloc[1]"
   ]
  },
  {
   "cell_type": "code",
   "execution_count": 37,
   "id": "f632c52c2fd49c55",
   "metadata": {
    "ExecuteTime": {
     "end_time": "2023-12-14T02:34:28.802272300Z",
     "start_time": "2023-12-14T02:34:28.751972700Z"
    },
    "collapsed": false,
    "jupyter": {
     "outputs_hidden": false
    }
   },
   "outputs": [],
   "source": [
    "yndxdf, flotdf = init()"
   ]
  },
  {
   "cell_type": "markdown",
   "id": "f23820872ff3954e",
   "metadata": {
    "collapsed": false,
    "jupyter": {
     "outputs_hidden": false
    }
   },
   "source": [
    "# Yahoo Finance API (optional)\n",
    "\n",
    "If you want to change the stock market share, after my ones you can use this API, \n",
    "just call the func below and leave it as it is or change it in following way:\n",
    "\n",
    "`yndxdf, flotdf = init_yahoo('yahoo_finance_index_1', 'yahoo_finance_index_2')`\n",
    "\n",
    "if you have no idea, I prepared some examples for you:\n",
    "\n",
    "`yndxdf, flotdf = init_yahoo('AAPL', 'GOOG')`\n",
    "\n",
    "`yndxdf, flotdf = init_yahoo('AMZN', 'TSLA')`\n",
    "\n",
    "The only problem is that **Yahoo Finance API** doesn't work with Russian stock market shares and\n",
    "all the titles of graphs will not be changed to yours, so you'll see the titles of the previous stock market shares.\n",
    "\n",
    "*there's no need to use this, if you don't want to explore something by your own interest.*\n",
    "\n",
    "The project was made using **Moscow Exchange API** which is so terrible, \n",
    "I used it to parse the data about exactly Yandex and Sovcomflot.\n",
    "\n",
    "fun fact: **Yahoo API** work much properly and looks more accurate, than **Moscow Exchange API**.\n",
    "\n",
    "Nevertheless, if I'd started this project from the beginning, I'd use Yahoo, \n",
    "even if I had to change the stock market share.\n",
    "\n",
    "The only thing you need to do is to change the stock market share in the dictionary below.\n"
   ]
  },
  {
   "cell_type": "code",
   "execution_count": 38,
   "id": "f270cfa29c5e54db",
   "metadata": {
    "ExecuteTime": {
     "end_time": "2023-12-14T02:34:28.802272300Z",
     "start_time": "2023-12-14T02:34:28.783413700Z"
    },
    "collapsed": false,
    "jupyter": {
     "outputs_hidden": false
    }
   },
   "outputs": [],
   "source": [
    "def init_yahoo(index1:str='', index2:str='', name1:str='', name2:str=''):\n",
    "    \n",
    "    stock = {True: index1, False: index2}\n",
    "    \n",
    "    yndx = yf.Ticker(stock[True])\n",
    "    yndxdf = yndx.history(period='max', interval='1d')\n",
    "    flot = yf.Ticker(stock[False])\n",
    "    flotdf = flot.history(period='max', interval='1d')\n",
    "    \n",
    "    yndxdf.columns = map(str.lower, yndxdf.columns)\n",
    "    flotdf.columns = map(str.lower, flotdf.columns)\n",
    "    \n",
    "    yndxdf['name'], flotdf['name'] = name1, name2\n",
    "        \n",
    "    yndxdf.rename_axis('tradedate', inplace=True)\n",
    "    flotdf.rename_axis('tradedate', inplace=True)\n",
    "    \n",
    "    return yndxdf, flotdf"
   ]
  },
  {
   "cell_type": "code",
   "execution_count": null,
   "id": "e6aef8fba46260f4",
   "metadata": {
    "ExecuteTime": {
     "end_time": "2023-12-14T02:34:28.802272300Z",
     "start_time": "2023-12-14T02:34:28.787125800Z"
    },
    "collapsed": false,
    "jupyter": {
     "outputs_hidden": false
    }
   },
   "outputs": [],
   "source": []
  },
  {
   "cell_type": "markdown",
   "id": "c5eb43d5176f6d1",
   "metadata": {
    "collapsed": false,
    "jupyter": {
     "outputs_hidden": false
    }
   },
   "source": [
    "# Defining functions for calculating technical indicators\n",
    "\n",
    "* Relative Strength Index (RSI)\n",
    "    $$\n",
    "\\begin{align*}\n",
    "RSI = 100 - \\frac{100}{1 + RS}\n",
    "\\end{align*}\n",
    "\n",
    "\n",
    "\n",
    "\\begin{align*}\n",
    "RS & = \\frac{\\text{AG}}{\\text{AL}} \\\\\n",
    "\\end{align*}\n",
    "\n",
    "\n",
    "\\begin{align*}\n",
    "\\text{AG (Average Gain)} & = \\frac{\\text{Sum of gains over } n \\text{ periods}}{n} \\\\\n",
    "\\text{AL (Average Loss)} & = \\frac{\\text{Sum of losses over } n \\text{ periods}}{n}\n",
    "\\end{align*}\n",
    "* Moving Average Convergence Divergence (MACD)\n",
    "* Simple Moving Average (SMA)"
   ]
  },
  {
   "cell_type": "code",
   "execution_count": 39,
   "id": "ba2fd0fd24fb78fb",
   "metadata": {
    "ExecuteTime": {
     "end_time": "2023-12-14T02:34:28.803273200Z",
     "start_time": "2023-12-14T02:34:28.798673400Z"
    },
    "collapsed": false,
    "jupyter": {
     "outputs_hidden": false
    }
   },
   "outputs": [],
   "source": [
    "def add_rsi(df_origin: pd.DataFrame, periods: list = []) -> pd.DataFrame:\n",
    "    \n",
    "    \"\"\"\n",
    "    Calculating RSI (Relative Strength Ratio) indicator\n",
    "    and adding it to the dataframe\n",
    "    \"\"\"\n",
    "    \n",
    "    df = df_origin.copy()\n",
    "    \n",
    "    for period in periods:\n",
    "        assert period > 0, \"Period must be greater than 0\"\n",
    "        assert period < len(df), \"Period must be less than the length of dataframe\"\n",
    "        \n",
    "        # rsi computed by myself\n",
    "        delta = df['close'].diff()\n",
    "        up = delta.copy()\n",
    "        down = delta.copy()\n",
    "        up[up < 0] = 0\n",
    "        down[down > 0] = 0\n",
    "        roll_up = up.rolling(period).mean()\n",
    "        roll_down = down.abs().rolling(period).mean()\n",
    "        my_rsi = 100 - 100 / (1 + roll_up / roll_down)\n",
    "    \n",
    "        # the perfect rsi\n",
    "        accurate_rsi = ta.rsi(df['close'], length=period)\n",
    "        \n",
    "        result_df = df.copy()\n",
    "        result_df[f'my_rsi_{period}'] = my_rsi\n",
    "        result_df[f'ta_rsi_{period}'] = accurate_rsi\n",
    "        \n",
    "        df = result_df\n",
    "        \n",
    "    return result_df\n",
    "\n",
    "    \n",
    "def add_macd(df, fast=12, slow=26, signal=9):\n",
    "    \n",
    "    \"\"\"\n",
    "    Calculating MACD indicator\n",
    "    \"\"\"\n",
    "    \n",
    "    assert fast < slow, f\"The slow:{slow} period must be greater than the fast{fast} period\"\n",
    "    assert signal < slow, f\"The slow{slow} period must be greater than the signal:{signal} period\"\n",
    "    \n",
    "    \n",
    "    macd = ta.macd(df['close'], fast=fast, slow=slow, signal=signal)\n",
    "    \n",
    "    return macd\n",
    "\n",
    "\n",
    "def show_macd(ax, name: str, levels: bool = True, color: str ='blue'):\n",
    "\n",
    "    \"\"\"\n",
    "    Plotting MACD indicator\n",
    "    \"\"\"\n",
    "    \n",
    "    \n",
    "    plot = ax.plot(xlabel=f'{name}', title=f'{ax.name}', color=color)\n",
    "    if levels:\n",
    "        plot.axhline(0, color='g')\n",
    "        plot.legend([name, 'MACD'])\n",
    "    return plot\n",
    "\n",
    "\n",
    "def add_sma(df, period=30):\n",
    "    \n",
    "    \"\"\"\n",
    "    Calculating SMA(Simple Moving Average) indicator\n",
    "    \"\"\"\n",
    "    \n",
    "    sma = ta.sma(df['close'], length=period)\n",
    "    \n",
    "    return sma\n",
    "\n",
    "\n",
    "def add_corr(df_origin: pd.DataFrame, \n",
    "             periods: list = [], \n",
    "             memories: dict = {},\n",
    "             cut: dict = {},\n",
    "             mine: bool = False) -> pd.DataFrame:\n",
    "\n",
    "\n",
    "    \"\"\"\n",
    "    Calculating correlation between two columns and append to a new one\n",
    "    :param df_origin: dataframe, *index must be datetime\n",
    "    :param periods: list of all periods of RSI that are in the dataframe\n",
    "    :param memories: dictionary of all periods of RSI and their memory\n",
    "    :param cut: dictionary of config of cutting the correlation\n",
    "    :return: dataframe with correlation columns\n",
    "    \"\"\"\n",
    "\n",
    "    \n",
    "    assert len(periods) > 0 and len(periods) <= 5, \"You need to choose at least 1 period, at most 5 periods\"\n",
    "    assert all([period in memories.keys() for period in periods]), \"You need to choose periods for each period\"\n",
    "    assert all([f'ta_rsi_{period}' in df_origin.columns for period in periods]), \"You need to calculate RSI first\"\n",
    "    assert all([f'my_rsi_{period}' in df_origin.columns for period in periods]), \"You need to calculate RSI first\"\n",
    "    \n",
    "    \n",
    "    go = {0: 'ta', 1: 'my'}\n",
    "    \n",
    "    df = df_origin.copy()\n",
    "    \n",
    "    for period in periods:\n",
    "        \n",
    "        memory = memories[period]\n",
    "        \n",
    "        for i in range(2):\n",
    "            if not mine:\n",
    "                if i == 1:\n",
    "                    break\n",
    "            \n",
    "            result_df, corr = df.copy(), dict()\n",
    "            result_corr, timesteps = [], [i for i in df.index]\n",
    "            \n",
    "            col_1, col_2 = f'close', f'{go[i]}_rsi_{period}'\n",
    "            new_col, beta = f'corr_{go[i]}_rsi_{period}', 0 \n",
    "            \n",
    "            for k in range(len(timesteps)):\n",
    "                \n",
    "                tempdf = df.loc[timesteps[max(0,k - memory)]:timesteps[k]].copy()\n",
    "                result_corr.append(tempdf[col_1].corr(tempdf[col_2]))\n",
    "        \n",
    "            \n",
    "            if len(timesteps) != len(result_corr):\n",
    "                raise ValueError(\"num of rows of df and calculated correlation must be equal\")\n",
    "            else:\n",
    "                \n",
    "                corr = {x: i for i, x in zip(result_corr, timesteps)}\n",
    "\n",
    "                if cut and (go[i] in cut['who']) and (cut['how'] == 'front' or cut['how'] == 'all'):\n",
    "                    for x in corr:\n",
    "                        if beta < cut['amount']:\n",
    "                            corr[x] = np.NaN\n",
    "                        beta += 1\n",
    "                if cut and (go[i] in cut['who']) and (cut['how'] == 'back' or cut['how'] == 'all'):\n",
    "                    for x in corr:\n",
    "                        if beta > len(corr) - cut['amount']:\n",
    "                            corr[x] = np.NaN\n",
    "                        beta += 1\n",
    "                    \n",
    "                result_df[new_col] = corr\n",
    "            \n",
    "            df = result_df\n",
    "            \n",
    "    return result_df\n",
    "\n"
   ]
  },
  {
   "cell_type": "markdown",
   "id": "48e5e15d0735b987",
   "metadata": {
    "collapsed": false,
    "jupyter": {
     "outputs_hidden": false
    }
   },
   "source": [
    "# Data visualisation functions\n",
    "plotting w/ plotly, matplotlib, matplotlibfinance, seaborn"
   ]
  },
  {
   "cell_type": "code",
   "execution_count": 40,
   "id": "592bab8dccb7d8af",
   "metadata": {
    "ExecuteTime": {
     "end_time": "2023-12-14T03:04:27.445911Z",
     "start_time": "2023-12-14T03:04:27.408906700Z"
    },
    "collapsed": false,
    "jupyter": {
     "outputs_hidden": false
    }
   },
   "outputs": [],
   "source": [
    "def ly_candlechart(df: pd.DataFrame):\n",
    "\n",
    "    \"\"\"\n",
    "    Plotting candlestick chart with volume bars using plotly library\n",
    "    \"\"\"\n",
    "    \n",
    "    fig = go.Figure(\n",
    "        data=[go.Candlestick(\n",
    "        x=df.index,\n",
    "        open=df['open'],\n",
    "        high=df['high'],\n",
    "        low=df['low'],\n",
    "        close=df['close']\n",
    "        )]\n",
    "    )\n",
    "    \n",
    "    fig.update_layout(\n",
    "        title=f'{title(df)}',\n",
    "        width=750,\n",
    "        height=650,\n",
    "    )\n",
    "    \n",
    "    fig.add_trace(\n",
    "        go.Bar(\n",
    "        x=df.index,\n",
    "        y=df['volume'],\n",
    "        name='Volume',\n",
    "        marker=dict(color='rgba(255, 255, 255, 0.4)'),\n",
    "        yaxis='y2'\n",
    "        )\n",
    "    )\n",
    "    \n",
    "    fig.layout.yaxis2 = dict(domain=[0, 0.3], anchor='x', title='Volume')\n",
    "    fig.layout.yaxis = dict(domain=[0.3, 1], anchor='x', title='Price')\n",
    "    \n",
    "    \n",
    "    return fig\n",
    "\n",
    "\n",
    "def ly_linegraph(df: pd.DataFrame, title: str = 'stock market'):\n",
    "    \n",
    "    \"\"\"\n",
    "    Plotting line chart using plotly library\n",
    "    \"\"\"\n",
    "    \n",
    "    fig = go.Figure(\n",
    "        data=[go.Scatter(\n",
    "        x=df.index,\n",
    "        y=df['close'],\n",
    "        )],\n",
    "    )\n",
    "    \n",
    "    fig.update_layout(\n",
    "        title=f'{title}',\n",
    "        width=700,\n",
    "        height=700,\n",
    "    )\n",
    "    \n",
    "    fig.show()\n",
    "\n",
    "\n",
    "def mpl_candlechart(df):\n",
    "    \n",
    "    \"\"\"\n",
    "    Plotting candlestick chart with volume bars using mplfinance library\n",
    "    \"\"\"\n",
    "    \n",
    "    mpf.plot(\n",
    "            df, \n",
    "            title=f'{title(df)}', \n",
    "            type='candle', \n",
    "            mav=(3, 7), \n",
    "            volume=True, \n",
    "            show_nontrading=True, \n",
    "            style='yahoo', \n",
    "            figsize=(10, 6)\n",
    "    )\n",
    "    mpf.show()\n",
    "\n",
    "\n",
    "def sns_linegraph(df):\n",
    "    \n",
    "    \"\"\"\n",
    "    Plotting line chart using seaborn library\n",
    "    \"\"\"\n",
    "    \n",
    "    sns.set(style=\"darkgrid\")\n",
    "    sns.lineplot(x=\"tradedate\", y=\"close\", data=df)\n",
    "    plt.show()\n",
    "\n",
    "\n",
    "def fig_rsi(df: pd.DataFrame,\n",
    "            periods: list = [14],\n",
    "            graph: bool = False,\n",
    "            mpl: bool = False, \n",
    "            sns: bool = False,\n",
    "            ly: bool = False,\n",
    "            mine: bool = True,\n",
    "            levels: bool = True) -> go.Figure:\n",
    "    \n",
    "    \"\"\"\n",
    "    Plotting RSI indicator by itself or creates matplotlib subplot\n",
    "    :param df: dataframe, *index must be datetime\n",
    "    :param periods: list of all periods of RSI that are in the dataframe\n",
    "    :param graph: is the graph with candlestick chart and correlation needed\n",
    "    :param levels: is the standart (30,70) levels of RSI needed \n",
    "    :param mpl: use matplotlib library\n",
    "    :param sns: use seaborn library\n",
    "    :param ly: use plotly library\n",
    "    :return: \n",
    "    \"\"\"\n",
    "    \n",
    "    \n",
    "    \n",
    "    if mine:\n",
    "        assert all([f'my_rsi_{period}' in df.columns for period in periods]), \"You need to calculate RSI first\"\n",
    "    assert all([f'ta_rsi_{period}' in df.columns for period in periods]), \"You need to calculate RSI first\"\n",
    "    assert mpl + sns + ly <= 1, \"You can choose only one library to plot\"\n",
    "    assert len(periods) > 0, \"You need to choose at least one period\"\n",
    "    assert len(periods) <= 5, \"You can't plot more than 5 graphs\"\n",
    "    \n",
    "    if graph:\n",
    "        assert all([f'corr_ta_rsi_{period}' in df.columns for period in periods]), \"You need to calculate correlation first to plot graph\"\n",
    "        if mine:\n",
    "            assert all([f'corr_my_rsi_{period}' in df.columns for period in periods]), \"You need to calculate correlation first to plot graph\"\n",
    "    \n",
    "    if ly:\n",
    "        \n",
    "        if levels:\n",
    "            \n",
    "            level1 = go.Scatter(\n",
    "                x=df.index,\n",
    "                y=[30 for i in range(len(df.index))],\n",
    "                name = 'oversold',\n",
    "                opacity=0.5,\n",
    "                fillcolor='green'\n",
    "                )\n",
    "                \n",
    "            level2 = go.Scatter(\n",
    "                x=df.index,\n",
    "                y=[70 for i in range(len(df.index))],\n",
    "                name = 'overbought',\n",
    "                opacity=0.5,\n",
    "                fillcolor='red'\n",
    "                )\n",
    "        \n",
    "        iterate, alp = len(periods), 0\n",
    "        \n",
    "        if len(periods) > 1:\n",
    "            \n",
    "            if not graph:\n",
    "                \n",
    "                fig = make_subplots(rows=1, cols=iterate, shared_xaxes=True, shared_yaxes=True,horizontal_spacing=0.05, vertical_spacing=0.01)\n",
    "                fig.update_layout(width=1100, height=500, barmode='overlay', title=f'{title(df)} RSI{periods} {str(df.index[0]).split()[0]} - {str(df.index[-1]).split()[0]}')\n",
    "                \n",
    "                for i in range(iterate):\n",
    "                    \n",
    "                    if alp >= len(periods):\n",
    "                        break\n",
    "                    \n",
    "                    taplot = go.Scatter(\n",
    "                    x=df.index,\n",
    "                    y=df[f'ta_rsi_{periods[alp]}'],\n",
    "                    name = f'ta RSI{periods[alp]}'\n",
    "                    )\n",
    "                    \n",
    "                    fig.add_trace(taplot, row=1, col=i + 1)\n",
    "                    \n",
    "                    if mine:\n",
    "                        myplot = go.Scatter(\n",
    "                        x=df.index,\n",
    "                        y=df[f'my_rsi_{periods[alp]}'],\n",
    "                        name = f'my RSI{periods[alp]}'\n",
    "                        )\n",
    "                        \n",
    "                        fig.add_trace(myplot, row=1, col=i + 1)\n",
    "                        \n",
    "                    if levels:\n",
    "                        fig.add_trace(level1, col=i + 1, row=1)\n",
    "                        fig.add_trace(level2, col=i + 1, row=1)\n",
    "                        \n",
    "                    alp += 1\n",
    "                    \n",
    "            else:\n",
    "                \n",
    "                fig = make_subplots(rows=3, cols=iterate, shared_xaxes=True, shared_yaxes=True, horizontal_spacing=0.05, vertical_spacing=0.01)\n",
    "                fig.update_layout(width=1300, height=900, barmode='overlay', title=f'{title(df)} RSI{periods} {str(df.index[0]).split()[0]} - {str(df.index[-1]).split()[0]}')\n",
    "                \n",
    "                for i in range(iterate):\n",
    "                    \n",
    "                    if alp >= len(periods):\n",
    "                        break\n",
    "                    \n",
    "                    fig.add_trace(ly_candlechart(df).data[0], row=3, col=i + 1)\n",
    "\n",
    "                    taplot = go.Scatter(\n",
    "                    x=df.index,\n",
    "                    y=df[f'ta_rsi_{periods[alp]}'],\n",
    "                    name = f'ta RSI{periods[alp]}'\n",
    "                    )\n",
    "                    \n",
    "                    fig.add_trace(taplot, row=1, col=i + 1)\n",
    "                    \n",
    "                    if mine:\n",
    "    \n",
    "                        myplot = go.Scatter(\n",
    "                        x=df.index,\n",
    "                        y=df[f'my_rsi_{periods[alp]}'],\n",
    "                        name = f'my RSI{periods[alp]}'\n",
    "                        )\n",
    "                        \n",
    "                        fig.add_trace(myplot, row=1, col=i + 1)\n",
    "                    \n",
    "                    tacorrplot = go.Scatter(\n",
    "                    x=df.index,\n",
    "                    y=df[f'corr_ta_rsi_{periods[alp]}'],\n",
    "                    name = f'corr ta RSI{periods[alp]}'\n",
    "                    )\n",
    "                    \n",
    "                    fig.add_trace(tacorrplot, row=2, col=i + 1)\n",
    "                    \n",
    "                    if mine:\n",
    "                        mycorrplot = go.Scatter(\n",
    "                        x=df.index,\n",
    "                        y=df[f'corr_my_rsi_{periods[alp]}'],\n",
    "                        name = f'corr my RSI{periods[alp]}'\n",
    "                        )\n",
    "                        \n",
    "                        fig.add_trace(mycorrplot, row=2, col=i + 1)\n",
    "                        \n",
    "                    if levels:\n",
    "                        fig.add_trace(level1, col=i + 1, row=1)\n",
    "                        fig.add_trace(level2, col=i + 1, row=1)\n",
    "                    \n",
    "                    alp += 1\n",
    "        \n",
    "        else:\n",
    "\n",
    "            if not graph:\n",
    "                \n",
    "                fig = make_subplots(rows=1, cols=1, shared_xaxes=True, shared_yaxes=True, horizontal_spacing=0.05, vertical_spacing=0.01)\n",
    "                fig.update_layout(width=1200, height=700, barmode='overlay', title=f'{title(df)} RSI{periods} {str(df.index[0]).split()[0]} - {str(df.index[-1]).split()[0]}')\n",
    "                \n",
    "                taplot = go.Scatter(\n",
    "                x=df.index,\n",
    "                y=df[f'ta_rsi_{periods[0]}'],\n",
    "                name = f'ta RSI{periods[0]}'\n",
    "                )\n",
    "                        \n",
    "                fig.add_trace(taplot, row=1, col=1)\n",
    "                \n",
    "                if mine:\n",
    "                    \n",
    "                    myplot = go.Scatter(\n",
    "                    x=df.index,\n",
    "                    y=df[f'my_rsi_{periods[0]}'],\n",
    "                    name = f'my RSI{periods[0]}'\n",
    "                    )\n",
    "                \n",
    "                    fig.add_trace(myplot, row=1, col=1)\n",
    "                \n",
    "                if levels:\n",
    "                    fig.add_trace(level1, col=1, row=1)\n",
    "                    fig.add_trace(level2, col=1, row=1)\n",
    "                    \n",
    "            else:\n",
    "                \n",
    "                \n",
    "                \n",
    "                fig = make_subplots(rows=3, cols=1, shared_xaxes=True, shared_yaxes=False, horizontal_spacing=0.05, vertical_spacing=0.01)\n",
    "                fig.update_layout(width=700, height=1200, barmode='overlay', title=f'{title(df)} RSI{periods} {str(df.index[0]).split()[0]} - {str(df.index[-1]).split()[0]}')\n",
    "                \n",
    "                fig.add_trace(ly_candlechart(df).data[0], row=3, col=1)\n",
    "\n",
    "                taplot = go.Scatter(\n",
    "                x=df.index,\n",
    "                y=df[f'ta_rsi_{periods[0]}'],\n",
    "                name = f'ta RSI{periods[0]}'\n",
    "                )\n",
    "                    \n",
    "                fig.add_trace(taplot, row=1, col=1)\n",
    "                \n",
    "                if mine:\n",
    "                        \n",
    "                    myplot = go.Scatter(\n",
    "                    x=df.index,\n",
    "                    y=df[f'my_rsi_{periods[0]}'],\n",
    "                    name = f'my RSI{periods[0]}'\n",
    "                    )\n",
    "                \n",
    "                    fig.add_trace(myplot, row=1, col=1)\n",
    "                \n",
    "                tacorrplot = go.Scatter(\n",
    "                x=df.index,\n",
    "                y=df[f'corr_ta_rsi_{periods[alp]}'],\n",
    "                name = f'corr ta RSI{periods[alp]}'\n",
    "                )\n",
    "                \n",
    "                fig.add_trace(tacorrplot, row=2, col=1)\n",
    "                \n",
    "                if mine:\n",
    "                    \n",
    "                    mycorrplot = go.Scatter(\n",
    "                    x=df.index,\n",
    "                    y=df[f'corr_my_rsi_{periods[alp]}'],\n",
    "                    name = f'corr my RSI{periods[alp]}'\n",
    "                    )\n",
    "                    \n",
    "                    fig.add_trace(mycorrplot, row=2, col=1)\n",
    "                    \n",
    "                if levels:\n",
    "                    fig.add_trace(level1, col=1, row=1)\n",
    "                    fig.add_trace(level2, col=1, row=1)\n",
    "            \n",
    "        return fig\n",
    "        \n",
    "    elif mpl:\n",
    "        plt.plot(df['my_rsi'])\n",
    "        plt.plot(df['ta_rsi'])\n",
    "        return plt\n",
    "    \n",
    "    elif sns:\n",
    "        sns.lineplot(x=\"tradedate\", y=\"my_rsi\", data=df)\n",
    "        sns.lineplot(x=\"tradedate\", y=\"ta_rsi\", data=df)\n",
    "\n",
    "\n",
    "def fig_macd(df: pd.DataFrame,\n",
    "             periods: list = [12, 26, 9],\n",
    "             graph: bool = False,\n",
    "             mpl: bool = False, \n",
    "             sns: bool = False,\n",
    "             ly: bool = False):\n",
    "    \n",
    "    \"\"\"\n",
    "    Plotting MACD indicator by itself or creates matplotlib subplot\n",
    "    :param df: dataframe, *index must be datetime\n",
    "    :param periods: list of all periods of MACD that are in the dataframe\n",
    "    :param only_macd: parameter if to plot only MACD indicator, without candlestick chart\n",
    "    :param mpl: use matplotlib library\n",
    "    :param sns: use seaborn library\n",
    "    :param ly: use plotly library\n",
    "    :return: \n",
    "    \"\"\"\n",
    "    \n",
    "    assert mpl + sns + ly <= 1, \"You can choose only one library to plot\"\n",
    "    assert len(periods) > 0, \"You need to choose at least one period\"\n",
    "    assert all([f'macd_{period}' in df.columns for period in periods]), \"You need to calculate MACD first\"\n",
    "    \n",
    "    "
   ]
  },
  {
   "cell_type": "markdown",
   "id": "2d0f7dd571f91005",
   "metadata": {
    "collapsed": false,
    "jupyter": {
     "outputs_hidden": false
    }
   },
   "source": [
    "# Adding functions for changing candle's periods"
   ]
  },
  {
   "cell_type": "code",
   "execution_count": 41,
   "id": "fbef8f08b6ff25da",
   "metadata": {
    "ExecuteTime": {
     "end_time": "2023-12-14T02:34:28.857538200Z",
     "start_time": "2023-12-14T02:34:28.826836100Z"
    },
    "collapsed": false,
    "jupyter": {
     "outputs_hidden": false
    }
   },
   "outputs": [],
   "source": [
    "def weekly_candles(df):\n",
    "    \n",
    "    \"\"\"\n",
    "    Changing candle's period to week\n",
    "    \"\"\"\n",
    "    \n",
    "    # Ensure the index is a datetime index\n",
    "    df.index = pd.to_datetime(df.index)\n",
    "\n",
    "    weekly_df = df.resample('W').agg(\n",
    "        {\n",
    "        'open': 'first', \n",
    "        'high': 'max', \n",
    "        'low': 'min', \n",
    "        'close': 'last', \n",
    "        'volume': 'sum',\n",
    "        'name': 'first'\n",
    "        }\n",
    "    )\n",
    "\n",
    "    return weekly_df\n",
    "\n",
    "\n",
    "def monthly_candles(df):\n",
    "    \n",
    "    \"\"\"\n",
    "    Changing candle's period to month\n",
    "    \"\"\"\n",
    "    \n",
    "    # Ensure the index is a datetime index\n",
    "    df.index = pd.to_datetime(df.index)\n",
    "\n",
    "    monthly_df = df.resample('M').agg(\n",
    "        {\n",
    "        'open': 'first', \n",
    "        'high': 'max', \n",
    "        'low': 'min', \n",
    "        'close': 'last', \n",
    "        'volume': 'sum',\n",
    "        'name': 'first'\n",
    "        }\n",
    "    )\n",
    "\n",
    "    return monthly_df\n",
    "\n"
   ]
  },
  {
   "cell_type": "markdown",
   "id": "b24f12f7a384900c",
   "metadata": {
    "collapsed": false,
    "jupyter": {
     "outputs_hidden": false
    }
   },
   "source": [
    "**call this function if you want to use yahoo finance**"
   ]
  },
  {
   "cell_type": "code",
   "execution_count": null,
   "id": "ed062331c5dcd748",
   "metadata": {
    "ExecuteTime": {
     "end_time": "2023-12-14T02:34:28.908422700Z",
     "start_time": "2023-12-14T02:34:28.829348500Z"
    },
    "collapsed": false,
    "jupyter": {
     "outputs_hidden": false
    }
   },
   "outputs": [],
   "source": []
  },
  {
   "cell_type": "markdown",
   "id": "4ba522f72242e920",
   "metadata": {
    "collapsed": false,
    "jupyter": {
     "outputs_hidden": false
    }
   },
   "source": [
    "# Visualising the data using functions above"
   ]
  },
  {
   "cell_type": "markdown",
   "id": "86fa0d8b5a927dd2",
   "metadata": {
    "collapsed": false,
    "jupyter": {
     "outputs_hidden": false
    }
   },
   "source": [
    "**Plotting each graph as a test, 2022 January - 2023 January**"
   ]
  },
  {
   "cell_type": "code",
   "execution_count": 42,
   "id": "535ea6d2eff8dc45",
   "metadata": {
    "ExecuteTime": {
     "end_time": "2023-12-14T02:34:28.911453900Z",
     "start_time": "2023-12-14T02:34:28.909421800Z"
    },
    "collapsed": false,
    "jupyter": {
     "outputs_hidden": false
    }
   },
   "outputs": [],
   "source": [
    "flotdf = flotdf['2021-01-01':'2024-01-10']\n",
    "yndxdf = yndxdf['2019-01-01':'2024-01-10']"
   ]
  },
  {
   "cell_type": "code",
   "execution_count": 43,
   "id": "aeba670c499493ea",
   "metadata": {
    "ExecuteTime": {
     "start_time": "2023-12-14T02:34:28.910453700Z"
    },
    "collapsed": false,
    "jupyter": {
     "outputs_hidden": false
    }
   },
   "outputs": [
    {
     "data": {
      "application/vnd.plotly.v1+json": {
       "config": {
        "plotlyServerURL": "https://plot.ly"
       },
       "data": [
        {
         "close": [
          91.52,
          90.2,
          90.3,
          88.84,
          93.9,
          92.99,
          87.13,
          88,
          84.28,
          85.2,
          80.24,
          73.21,
          72.24,
          45.37,
          52.91,
          44.75,
          39,
          38.78,
          35.86,
          39.8,
          29.92,
          38.49,
          38.93,
          37.62,
          45.5,
          49.21,
          58.26,
          59.92,
          78.02,
          89.65,
          98.6,
          112.87,
          120.92,
          120.6,
          127.28
         ],
         "high": [
          94.85,
          93.78,
          93.5,
          92.4,
          94.84,
          97.1,
          94.99,
          89.15,
          88.39,
          90,
          87,
          82.13,
          78.36,
          73.09,
          53.95,
          66.6,
          46.16,
          44.9,
          43.2,
          41.48,
          44.91,
          39.28,
          40.99,
          40,
          47.44,
          52.47,
          62.2,
          67.69,
          79.98,
          97.97,
          99.64,
          119,
          123,
          125.8,
          131
         ],
         "low": [
          88.56,
          89,
          89.13,
          88.73,
          88.01,
          92,
          86,
          85.51,
          83.51,
          83,
          79.95,
          70.87,
          66.54,
          30,
          36.38,
          41.65,
          38.77,
          35.53,
          34,
          34.5,
          29.5,
          28.68,
          37.2,
          34.51,
          37.2,
          43.7,
          47.82,
          57.64,
          54.8,
          78.02,
          83.5,
          96.01,
          97.64,
          115.9,
          119.42
         ],
         "open": [
          90.7,
          91.52,
          90.99,
          90.4,
          89.25,
          94.01,
          93,
          87.31,
          87.99,
          84.28,
          85.47,
          80.43,
          74.01,
          72.24,
          44.9,
          54,
          44.75,
          39,
          39.2,
          36.04,
          39.84,
          30.4,
          38.61,
          39,
          37.6,
          46.04,
          49.33,
          58.26,
          59.65,
          78.02,
          89.77,
          99,
          113.17,
          121.7,
          120.6
         ],
         "type": "candlestick",
         "x": [
          "2021-01-31T00:00:00",
          "2021-02-28T00:00:00",
          "2021-03-31T00:00:00",
          "2021-04-30T00:00:00",
          "2021-05-31T00:00:00",
          "2021-06-30T00:00:00",
          "2021-07-31T00:00:00",
          "2021-08-31T00:00:00",
          "2021-09-30T00:00:00",
          "2021-10-31T00:00:00",
          "2021-11-30T00:00:00",
          "2021-12-31T00:00:00",
          "2022-01-31T00:00:00",
          "2022-02-28T00:00:00",
          "2022-03-31T00:00:00",
          "2022-04-30T00:00:00",
          "2022-05-31T00:00:00",
          "2022-06-30T00:00:00",
          "2022-07-31T00:00:00",
          "2022-08-31T00:00:00",
          "2022-09-30T00:00:00",
          "2022-10-31T00:00:00",
          "2022-11-30T00:00:00",
          "2022-12-31T00:00:00",
          "2023-01-31T00:00:00",
          "2023-02-28T00:00:00",
          "2023-03-31T00:00:00",
          "2023-04-30T00:00:00",
          "2023-05-31T00:00:00",
          "2023-06-30T00:00:00",
          "2023-07-31T00:00:00",
          "2023-08-31T00:00:00",
          "2023-09-30T00:00:00",
          "2023-10-31T00:00:00",
          "2023-11-30T00:00:00"
         ]
        },
        {
         "marker": {
          "color": "rgba(255, 255, 255, 0.4)"
         },
         "name": "Volume",
         "type": "bar",
         "x": [
          "2021-01-31T00:00:00",
          "2021-02-28T00:00:00",
          "2021-03-31T00:00:00",
          "2021-04-30T00:00:00",
          "2021-05-31T00:00:00",
          "2021-06-30T00:00:00",
          "2021-07-31T00:00:00",
          "2021-08-31T00:00:00",
          "2021-09-30T00:00:00",
          "2021-10-31T00:00:00",
          "2021-11-30T00:00:00",
          "2021-12-31T00:00:00",
          "2022-01-31T00:00:00",
          "2022-02-28T00:00:00",
          "2022-03-31T00:00:00",
          "2022-04-30T00:00:00",
          "2022-05-31T00:00:00",
          "2022-06-30T00:00:00",
          "2022-07-31T00:00:00",
          "2022-08-31T00:00:00",
          "2022-09-30T00:00:00",
          "2022-10-31T00:00:00",
          "2022-11-30T00:00:00",
          "2022-12-31T00:00:00",
          "2023-01-31T00:00:00",
          "2023-02-28T00:00:00",
          "2023-03-31T00:00:00",
          "2023-04-30T00:00:00",
          "2023-05-31T00:00:00",
          "2023-06-30T00:00:00",
          "2023-07-31T00:00:00",
          "2023-08-31T00:00:00",
          "2023-09-30T00:00:00",
          "2023-10-31T00:00:00",
          "2023-11-30T00:00:00"
         ],
         "y": [
          29811250,
          33245100,
          35069980,
          33517210,
          44960230,
          40982760,
          24295420,
          12011100,
          12479880,
          17537230,
          11337040,
          53243840,
          18461490,
          17387920,
          6045120,
          23336280,
          9808730,
          13970520,
          15262300,
          33923890,
          39290870,
          28189860,
          15337880,
          15267520,
          56989330,
          114111070,
          220749170,
          253717370,
          230842090,
          461837060,
          305245450,
          581968250,
          360815670,
          177196420,
          135063660
         ],
         "yaxis": "y2"
        }
       ],
       "layout": {
        "height": 650,
        "template": {
         "data": {
          "bar": [
           {
            "error_x": {
             "color": "#2a3f5f"
            },
            "error_y": {
             "color": "#2a3f5f"
            },
            "marker": {
             "line": {
              "color": "#E5ECF6",
              "width": 0.5
             },
             "pattern": {
              "fillmode": "overlay",
              "size": 10,
              "solidity": 0.2
             }
            },
            "type": "bar"
           }
          ],
          "barpolar": [
           {
            "marker": {
             "line": {
              "color": "#E5ECF6",
              "width": 0.5
             },
             "pattern": {
              "fillmode": "overlay",
              "size": 10,
              "solidity": 0.2
             }
            },
            "type": "barpolar"
           }
          ],
          "carpet": [
           {
            "aaxis": {
             "endlinecolor": "#2a3f5f",
             "gridcolor": "white",
             "linecolor": "white",
             "minorgridcolor": "white",
             "startlinecolor": "#2a3f5f"
            },
            "baxis": {
             "endlinecolor": "#2a3f5f",
             "gridcolor": "white",
             "linecolor": "white",
             "minorgridcolor": "white",
             "startlinecolor": "#2a3f5f"
            },
            "type": "carpet"
           }
          ],
          "choropleth": [
           {
            "colorbar": {
             "outlinewidth": 0,
             "ticks": ""
            },
            "type": "choropleth"
           }
          ],
          "contour": [
           {
            "colorbar": {
             "outlinewidth": 0,
             "ticks": ""
            },
            "colorscale": [
             [
              0,
              "#0d0887"
             ],
             [
              0.1111111111111111,
              "#46039f"
             ],
             [
              0.2222222222222222,
              "#7201a8"
             ],
             [
              0.3333333333333333,
              "#9c179e"
             ],
             [
              0.4444444444444444,
              "#bd3786"
             ],
             [
              0.5555555555555556,
              "#d8576b"
             ],
             [
              0.6666666666666666,
              "#ed7953"
             ],
             [
              0.7777777777777778,
              "#fb9f3a"
             ],
             [
              0.8888888888888888,
              "#fdca26"
             ],
             [
              1,
              "#f0f921"
             ]
            ],
            "type": "contour"
           }
          ],
          "contourcarpet": [
           {
            "colorbar": {
             "outlinewidth": 0,
             "ticks": ""
            },
            "type": "contourcarpet"
           }
          ],
          "heatmap": [
           {
            "colorbar": {
             "outlinewidth": 0,
             "ticks": ""
            },
            "colorscale": [
             [
              0,
              "#0d0887"
             ],
             [
              0.1111111111111111,
              "#46039f"
             ],
             [
              0.2222222222222222,
              "#7201a8"
             ],
             [
              0.3333333333333333,
              "#9c179e"
             ],
             [
              0.4444444444444444,
              "#bd3786"
             ],
             [
              0.5555555555555556,
              "#d8576b"
             ],
             [
              0.6666666666666666,
              "#ed7953"
             ],
             [
              0.7777777777777778,
              "#fb9f3a"
             ],
             [
              0.8888888888888888,
              "#fdca26"
             ],
             [
              1,
              "#f0f921"
             ]
            ],
            "type": "heatmap"
           }
          ],
          "heatmapgl": [
           {
            "colorbar": {
             "outlinewidth": 0,
             "ticks": ""
            },
            "colorscale": [
             [
              0,
              "#0d0887"
             ],
             [
              0.1111111111111111,
              "#46039f"
             ],
             [
              0.2222222222222222,
              "#7201a8"
             ],
             [
              0.3333333333333333,
              "#9c179e"
             ],
             [
              0.4444444444444444,
              "#bd3786"
             ],
             [
              0.5555555555555556,
              "#d8576b"
             ],
             [
              0.6666666666666666,
              "#ed7953"
             ],
             [
              0.7777777777777778,
              "#fb9f3a"
             ],
             [
              0.8888888888888888,
              "#fdca26"
             ],
             [
              1,
              "#f0f921"
             ]
            ],
            "type": "heatmapgl"
           }
          ],
          "histogram": [
           {
            "marker": {
             "pattern": {
              "fillmode": "overlay",
              "size": 10,
              "solidity": 0.2
             }
            },
            "type": "histogram"
           }
          ],
          "histogram2d": [
           {
            "colorbar": {
             "outlinewidth": 0,
             "ticks": ""
            },
            "colorscale": [
             [
              0,
              "#0d0887"
             ],
             [
              0.1111111111111111,
              "#46039f"
             ],
             [
              0.2222222222222222,
              "#7201a8"
             ],
             [
              0.3333333333333333,
              "#9c179e"
             ],
             [
              0.4444444444444444,
              "#bd3786"
             ],
             [
              0.5555555555555556,
              "#d8576b"
             ],
             [
              0.6666666666666666,
              "#ed7953"
             ],
             [
              0.7777777777777778,
              "#fb9f3a"
             ],
             [
              0.8888888888888888,
              "#fdca26"
             ],
             [
              1,
              "#f0f921"
             ]
            ],
            "type": "histogram2d"
           }
          ],
          "histogram2dcontour": [
           {
            "colorbar": {
             "outlinewidth": 0,
             "ticks": ""
            },
            "colorscale": [
             [
              0,
              "#0d0887"
             ],
             [
              0.1111111111111111,
              "#46039f"
             ],
             [
              0.2222222222222222,
              "#7201a8"
             ],
             [
              0.3333333333333333,
              "#9c179e"
             ],
             [
              0.4444444444444444,
              "#bd3786"
             ],
             [
              0.5555555555555556,
              "#d8576b"
             ],
             [
              0.6666666666666666,
              "#ed7953"
             ],
             [
              0.7777777777777778,
              "#fb9f3a"
             ],
             [
              0.8888888888888888,
              "#fdca26"
             ],
             [
              1,
              "#f0f921"
             ]
            ],
            "type": "histogram2dcontour"
           }
          ],
          "mesh3d": [
           {
            "colorbar": {
             "outlinewidth": 0,
             "ticks": ""
            },
            "type": "mesh3d"
           }
          ],
          "parcoords": [
           {
            "line": {
             "colorbar": {
              "outlinewidth": 0,
              "ticks": ""
             }
            },
            "type": "parcoords"
           }
          ],
          "pie": [
           {
            "automargin": true,
            "type": "pie"
           }
          ],
          "scatter": [
           {
            "fillpattern": {
             "fillmode": "overlay",
             "size": 10,
             "solidity": 0.2
            },
            "type": "scatter"
           }
          ],
          "scatter3d": [
           {
            "line": {
             "colorbar": {
              "outlinewidth": 0,
              "ticks": ""
             }
            },
            "marker": {
             "colorbar": {
              "outlinewidth": 0,
              "ticks": ""
             }
            },
            "type": "scatter3d"
           }
          ],
          "scattercarpet": [
           {
            "marker": {
             "colorbar": {
              "outlinewidth": 0,
              "ticks": ""
             }
            },
            "type": "scattercarpet"
           }
          ],
          "scattergeo": [
           {
            "marker": {
             "colorbar": {
              "outlinewidth": 0,
              "ticks": ""
             }
            },
            "type": "scattergeo"
           }
          ],
          "scattergl": [
           {
            "marker": {
             "colorbar": {
              "outlinewidth": 0,
              "ticks": ""
             }
            },
            "type": "scattergl"
           }
          ],
          "scattermapbox": [
           {
            "marker": {
             "colorbar": {
              "outlinewidth": 0,
              "ticks": ""
             }
            },
            "type": "scattermapbox"
           }
          ],
          "scatterpolar": [
           {
            "marker": {
             "colorbar": {
              "outlinewidth": 0,
              "ticks": ""
             }
            },
            "type": "scatterpolar"
           }
          ],
          "scatterpolargl": [
           {
            "marker": {
             "colorbar": {
              "outlinewidth": 0,
              "ticks": ""
             }
            },
            "type": "scatterpolargl"
           }
          ],
          "scatterternary": [
           {
            "marker": {
             "colorbar": {
              "outlinewidth": 0,
              "ticks": ""
             }
            },
            "type": "scatterternary"
           }
          ],
          "surface": [
           {
            "colorbar": {
             "outlinewidth": 0,
             "ticks": ""
            },
            "colorscale": [
             [
              0,
              "#0d0887"
             ],
             [
              0.1111111111111111,
              "#46039f"
             ],
             [
              0.2222222222222222,
              "#7201a8"
             ],
             [
              0.3333333333333333,
              "#9c179e"
             ],
             [
              0.4444444444444444,
              "#bd3786"
             ],
             [
              0.5555555555555556,
              "#d8576b"
             ],
             [
              0.6666666666666666,
              "#ed7953"
             ],
             [
              0.7777777777777778,
              "#fb9f3a"
             ],
             [
              0.8888888888888888,
              "#fdca26"
             ],
             [
              1,
              "#f0f921"
             ]
            ],
            "type": "surface"
           }
          ],
          "table": [
           {
            "cells": {
             "fill": {
              "color": "#EBF0F8"
             },
             "line": {
              "color": "white"
             }
            },
            "header": {
             "fill": {
              "color": "#C8D4E3"
             },
             "line": {
              "color": "white"
             }
            },
            "type": "table"
           }
          ]
         },
         "layout": {
          "annotationdefaults": {
           "arrowcolor": "#2a3f5f",
           "arrowhead": 0,
           "arrowwidth": 1
          },
          "autotypenumbers": "strict",
          "coloraxis": {
           "colorbar": {
            "outlinewidth": 0,
            "ticks": ""
           }
          },
          "colorscale": {
           "diverging": [
            [
             0,
             "#8e0152"
            ],
            [
             0.1,
             "#c51b7d"
            ],
            [
             0.2,
             "#de77ae"
            ],
            [
             0.3,
             "#f1b6da"
            ],
            [
             0.4,
             "#fde0ef"
            ],
            [
             0.5,
             "#f7f7f7"
            ],
            [
             0.6,
             "#e6f5d0"
            ],
            [
             0.7,
             "#b8e186"
            ],
            [
             0.8,
             "#7fbc41"
            ],
            [
             0.9,
             "#4d9221"
            ],
            [
             1,
             "#276419"
            ]
           ],
           "sequential": [
            [
             0,
             "#0d0887"
            ],
            [
             0.1111111111111111,
             "#46039f"
            ],
            [
             0.2222222222222222,
             "#7201a8"
            ],
            [
             0.3333333333333333,
             "#9c179e"
            ],
            [
             0.4444444444444444,
             "#bd3786"
            ],
            [
             0.5555555555555556,
             "#d8576b"
            ],
            [
             0.6666666666666666,
             "#ed7953"
            ],
            [
             0.7777777777777778,
             "#fb9f3a"
            ],
            [
             0.8888888888888888,
             "#fdca26"
            ],
            [
             1,
             "#f0f921"
            ]
           ],
           "sequentialminus": [
            [
             0,
             "#0d0887"
            ],
            [
             0.1111111111111111,
             "#46039f"
            ],
            [
             0.2222222222222222,
             "#7201a8"
            ],
            [
             0.3333333333333333,
             "#9c179e"
            ],
            [
             0.4444444444444444,
             "#bd3786"
            ],
            [
             0.5555555555555556,
             "#d8576b"
            ],
            [
             0.6666666666666666,
             "#ed7953"
            ],
            [
             0.7777777777777778,
             "#fb9f3a"
            ],
            [
             0.8888888888888888,
             "#fdca26"
            ],
            [
             1,
             "#f0f921"
            ]
           ]
          },
          "colorway": [
           "#636efa",
           "#EF553B",
           "#00cc96",
           "#ab63fa",
           "#FFA15A",
           "#19d3f3",
           "#FF6692",
           "#B6E880",
           "#FF97FF",
           "#FECB52"
          ],
          "font": {
           "color": "#2a3f5f"
          },
          "geo": {
           "bgcolor": "white",
           "lakecolor": "white",
           "landcolor": "#E5ECF6",
           "showlakes": true,
           "showland": true,
           "subunitcolor": "white"
          },
          "hoverlabel": {
           "align": "left"
          },
          "hovermode": "closest",
          "mapbox": {
           "style": "light"
          },
          "paper_bgcolor": "white",
          "plot_bgcolor": "#E5ECF6",
          "polar": {
           "angularaxis": {
            "gridcolor": "white",
            "linecolor": "white",
            "ticks": ""
           },
           "bgcolor": "#E5ECF6",
           "radialaxis": {
            "gridcolor": "white",
            "linecolor": "white",
            "ticks": ""
           }
          },
          "scene": {
           "xaxis": {
            "backgroundcolor": "#E5ECF6",
            "gridcolor": "white",
            "gridwidth": 2,
            "linecolor": "white",
            "showbackground": true,
            "ticks": "",
            "zerolinecolor": "white"
           },
           "yaxis": {
            "backgroundcolor": "#E5ECF6",
            "gridcolor": "white",
            "gridwidth": 2,
            "linecolor": "white",
            "showbackground": true,
            "ticks": "",
            "zerolinecolor": "white"
           },
           "zaxis": {
            "backgroundcolor": "#E5ECF6",
            "gridcolor": "white",
            "gridwidth": 2,
            "linecolor": "white",
            "showbackground": true,
            "ticks": "",
            "zerolinecolor": "white"
           }
          },
          "shapedefaults": {
           "line": {
            "color": "#2a3f5f"
           }
          },
          "ternary": {
           "aaxis": {
            "gridcolor": "white",
            "linecolor": "white",
            "ticks": ""
           },
           "baxis": {
            "gridcolor": "white",
            "linecolor": "white",
            "ticks": ""
           },
           "bgcolor": "#E5ECF6",
           "caxis": {
            "gridcolor": "white",
            "linecolor": "white",
            "ticks": ""
           }
          },
          "title": {
           "x": 0.05
          },
          "xaxis": {
           "automargin": true,
           "gridcolor": "white",
           "linecolor": "white",
           "ticks": "",
           "title": {
            "standoff": 15
           },
           "zerolinecolor": "white",
           "zerolinewidth": 2
          },
          "yaxis": {
           "automargin": true,
           "gridcolor": "white",
           "linecolor": "white",
           "ticks": "",
           "title": {
            "standoff": 15
           },
           "zerolinecolor": "white",
           "zerolinewidth": 2
          }
         }
        },
        "title": {
         "text": "Sovcomflot"
        },
        "width": 750,
        "xaxis": {
         "autorange": true,
         "range": [
          "2021-01-17",
          "2023-12-14"
         ],
         "rangeslider": {
          "autorange": true,
          "range": [
           "2021-01-17",
           "2023-12-14"
          ],
          "yaxis": {
           "_template": null,
           "rangemode": "match"
          },
          "yaxis2": {
           "_template": null,
           "rangemode": "match"
          }
         },
         "type": "date"
        },
        "yaxis": {
         "anchor": "x",
         "autorange": true,
         "domain": [
          0.3,
          1
         ],
         "range": [
          22.995555555555555,
          136.68444444444444
         ],
         "title": {
          "text": "Price"
         }
        },
        "yaxis2": {
         "anchor": "x",
         "autorange": true,
         "domain": [
          0,
          0.3
         ],
         "range": [
          0,
          612598157.8947369
         ],
         "title": {
          "text": "Volume"
         },
         "type": "linear"
        }
       }
      },
      "image/png": "[encoded data removed]",
      "text/html": [
       "<div>                            <div id=\"eead2df0-12ec-4700-ac39-7a1977b145d0\" class=\"plotly-graph-div\" style=\"height:650px; width:750px;\"></div>            <script type=\"text/javascript\">                require([\"plotly\"], function(Plotly) {                    window.PLOTLYENV=window.PLOTLYENV || {};                                    if (document.getElementById(\"eead2df0-12ec-4700-ac39-7a1977b145d0\")) {                    Plotly.newPlot(                        \"eead2df0-12ec-4700-ac39-7a1977b145d0\",                        [{\"close\":[91.52,90.2,90.3,88.84,93.9,92.99,87.13,88.0,84.28,85.2,80.24,73.21,72.24,45.37,52.91,44.75,39.0,38.78,35.86,39.8,29.92,38.49,38.93,37.62,45.5,49.21,58.26,59.92,78.02,89.65,98.6,112.87,120.92,120.6,127.28],\"high\":[94.85,93.78,93.5,92.4,94.84,97.1,94.99,89.15,88.39,90.0,87.0,82.13,78.36,73.09,53.95,66.6,46.16,44.9,43.2,41.48,44.91,39.28,40.99,40.0,47.44,52.47,62.2,67.69,79.98,97.97,99.64,119.0,123.0,125.8,131.0],\"low\":[88.56,89.0,89.13,88.73,88.01,92.0,86.0,85.51,83.51,83.0,79.95,70.87,66.54,30.0,36.38,41.65,38.77,35.53,34.0,34.5,29.5,28.68,37.2,34.51,37.2,43.7,47.82,57.64,54.8,78.02,83.5,96.01,97.64,115.9,119.42],\"open\":[90.7,91.52,90.99,90.4,89.25,94.01,93.0,87.31,87.99,84.28,85.47,80.43,74.01,72.24,44.9,54.0,44.75,39.0,39.2,36.04,39.84,30.4,38.61,39.0,37.6,46.04,49.33,58.26,59.65,78.02,89.77,99.0,113.17,121.7,120.6],\"x\":[\"2021-01-31T00:00:00\",\"2021-02-28T00:00:00\",\"2021-03-31T00:00:00\",\"2021-04-30T00:00:00\",\"2021-05-31T00:00:00\",\"2021-06-30T00:00:00\",\"2021-07-31T00:00:00\",\"2021-08-31T00:00:00\",\"2021-09-30T00:00:00\",\"2021-10-31T00:00:00\",\"2021-11-30T00:00:00\",\"2021-12-31T00:00:00\",\"2022-01-31T00:00:00\",\"2022-02-28T00:00:00\",\"2022-03-31T00:00:00\",\"2022-04-30T00:00:00\",\"2022-05-31T00:00:00\",\"2022-06-30T00:00:00\",\"2022-07-31T00:00:00\",\"2022-08-31T00:00:00\",\"2022-09-30T00:00:00\",\"2022-10-31T00:00:00\",\"2022-11-30T00:00:00\",\"2022-12-31T00:00:00\",\"2023-01-31T00:00:00\",\"2023-02-28T00:00:00\",\"2023-03-31T00:00:00\",\"2023-04-30T00:00:00\",\"2023-05-31T00:00:00\",\"2023-06-30T00:00:00\",\"2023-07-31T00:00:00\",\"2023-08-31T00:00:00\",\"2023-09-30T00:00:00\",\"2023-10-31T00:00:00\",\"2023-11-30T00:00:00\"],\"type\":\"candlestick\"},{\"marker\":{\"color\":\"rgba(255, 255, 255, 0.4)\"},\"name\":\"Volume\",\"x\":[\"2021-01-31T00:00:00\",\"2021-02-28T00:00:00\",\"2021-03-31T00:00:00\",\"2021-04-30T00:00:00\",\"2021-05-31T00:00:00\",\"2021-06-30T00:00:00\",\"2021-07-31T00:00:00\",\"2021-08-31T00:00:00\",\"2021-09-30T00:00:00\",\"2021-10-31T00:00:00\",\"2021-11-30T00:00:00\",\"2021-12-31T00:00:00\",\"2022-01-31T00:00:00\",\"2022-02-28T00:00:00\",\"2022-03-31T00:00:00\",\"2022-04-30T00:00:00\",\"2022-05-31T00:00:00\",\"2022-06-30T00:00:00\",\"2022-07-31T00:00:00\",\"2022-08-31T00:00:00\",\"2022-09-30T00:00:00\",\"2022-10-31T00:00:00\",\"2022-11-30T00:00:00\",\"2022-12-31T00:00:00\",\"2023-01-31T00:00:00\",\"2023-02-28T00:00:00\",\"2023-03-31T00:00:00\",\"2023-04-30T00:00:00\",\"2023-05-31T00:00:00\",\"2023-06-30T00:00:00\",\"2023-07-31T00:00:00\",\"2023-08-31T00:00:00\",\"2023-09-30T00:00:00\",\"2023-10-31T00:00:00\",\"2023-11-30T00:00:00\"],\"y\":[29811250,33245100,35069980,33517210,44960230,40982760,24295420,12011100,12479880,17537230,11337040,53243840,18461490,17387920,6045120,23336280,9808730,13970520,15262300,33923890,39290870,28189860,15337880,15267520,56989330,114111070,220749170,253717370,230842090,461837060,305245450,581968250,360815670,177196420,135063660],\"yaxis\":\"y2\",\"type\":\"bar\"}],                        {\"template\":{\"data\":{\"histogram2dcontour\":[{\"type\":\"histogram2dcontour\",\"colorbar\":{\"outlinewidth\":0,\"ticks\":\"\"},\"colorscale\":[[0.0,\"#0d0887\"],[0.1111111111111111,\"#46039f\"],[0.2222222222222222,\"#7201a8\"],[0.3333333333333333,\"#9c179e\"],[0.4444444444444444,\"#bd3786\"],[0.5555555555555556,\"#d8576b\"],[0.6666666666666666,\"#ed7953\"],[0.7777777777777778,\"#fb9f3a\"],[0.8888888888888888,\"#fdca26\"],[1.0,\"#f0f921\"]]}],\"choropleth\":[{\"type\":\"choropleth\",\"colorbar\":{\"outlinewidth\":0,\"ticks\":\"\"}}],\"histogram2d\":[{\"type\":\"histogram2d\",\"colorbar\":{\"outlinewidth\":0,\"ticks\":\"\"},\"colorscale\":[[0.0,\"#0d0887\"],[0.1111111111111111,\"#46039f\"],[0.2222222222222222,\"#7201a8\"],[0.3333333333333333,\"#9c179e\"],[0.4444444444444444,\"#bd3786\"],[0.5555555555555556,\"#d8576b\"],[0.6666666666666666,\"#ed7953\"],[0.7777777777777778,\"#fb9f3a\"],[0.8888888888888888,\"#fdca26\"],[1.0,\"#f0f921\"]]}],\"heatmap\":[{\"type\":\"heatmap\",\"colorbar\":{\"outlinewidth\":0,\"ticks\":\"\"},\"colorscale\":[[0.0,\"#0d0887\"],[0.1111111111111111,\"#46039f\"],[0.2222222222222222,\"#7201a8\"],[0.3333333333333333,\"#9c179e\"],[0.4444444444444444,\"#bd3786\"],[0.5555555555555556,\"#d8576b\"],[0.6666666666666666,\"#ed7953\"],[0.7777777777777778,\"#fb9f3a\"],[0.8888888888888888,\"#fdca26\"],[1.0,\"#f0f921\"]]}],\"heatmapgl\":[{\"type\":\"heatmapgl\",\"colorbar\":{\"outlinewidth\":0,\"ticks\":\"\"},\"colorscale\":[[0.0,\"#0d0887\"],[0.1111111111111111,\"#46039f\"],[0.2222222222222222,\"#7201a8\"],[0.3333333333333333,\"#9c179e\"],[0.4444444444444444,\"#bd3786\"],[0.5555555555555556,\"#d8576b\"],[0.6666666666666666,\"#ed7953\"],[0.7777777777777778,\"#fb9f3a\"],[0.8888888888888888,\"#fdca26\"],[1.0,\"#f0f921\"]]}],\"contourcarpet\":[{\"type\":\"contourcarpet\",\"colorbar\":{\"outlinewidth\":0,\"ticks\":\"\"}}],\"contour\":[{\"type\":\"contour\",\"colorbar\":{\"outlinewidth\":0,\"ticks\":\"\"},\"colorscale\":[[0.0,\"#0d0887\"],[0.1111111111111111,\"#46039f\"],[0.2222222222222222,\"#7201a8\"],[0.3333333333333333,\"#9c179e\"],[0.4444444444444444,\"#bd3786\"],[0.5555555555555556,\"#d8576b\"],[0.6666666666666666,\"#ed7953\"],[0.7777777777777778,\"#fb9f3a\"],[0.8888888888888888,\"#fdca26\"],[1.0,\"#f0f921\"]]}],\"surface\":[{\"type\":\"surface\",\"colorbar\":{\"outlinewidth\":0,\"ticks\":\"\"},\"colorscale\":[[0.0,\"#0d0887\"],[0.1111111111111111,\"#46039f\"],[0.2222222222222222,\"#7201a8\"],[0.3333333333333333,\"#9c179e\"],[0.4444444444444444,\"#bd3786\"],[0.5555555555555556,\"#d8576b\"],[0.6666666666666666,\"#ed7953\"],[0.7777777777777778,\"#fb9f3a\"],[0.8888888888888888,\"#fdca26\"],[1.0,\"#f0f921\"]]}],\"mesh3d\":[{\"type\":\"mesh3d\",\"colorbar\":{\"outlinewidth\":0,\"ticks\":\"\"}}],\"scatter\":[{\"fillpattern\":{\"fillmode\":\"overlay\",\"size\":10,\"solidity\":0.2},\"type\":\"scatter\"}],\"parcoords\":[{\"type\":\"parcoords\",\"line\":{\"colorbar\":{\"outlinewidth\":0,\"ticks\":\"\"}}}],\"scatterpolargl\":[{\"type\":\"scatterpolargl\",\"marker\":{\"colorbar\":{\"outlinewidth\":0,\"ticks\":\"\"}}}],\"bar\":[{\"error_x\":{\"color\":\"#2a3f5f\"},\"error_y\":{\"color\":\"#2a3f5f\"},\"marker\":{\"line\":{\"color\":\"#E5ECF6\",\"width\":0.5},\"pattern\":{\"fillmode\":\"overlay\",\"size\":10,\"solidity\":0.2}},\"type\":\"bar\"}],\"scattergeo\":[{\"type\":\"scattergeo\",\"marker\":{\"colorbar\":{\"outlinewidth\":0,\"ticks\":\"\"}}}],\"scatterpolar\":[{\"type\":\"scatterpolar\",\"marker\":{\"colorbar\":{\"outlinewidth\":0,\"ticks\":\"\"}}}],\"histogram\":[{\"marker\":{\"pattern\":{\"fillmode\":\"overlay\",\"size\":10,\"solidity\":0.2}},\"type\":\"histogram\"}],\"scattergl\":[{\"type\":\"scattergl\",\"marker\":{\"colorbar\":{\"outlinewidth\":0,\"ticks\":\"\"}}}],\"scatter3d\":[{\"type\":\"scatter3d\",\"line\":{\"colorbar\":{\"outlinewidth\":0,\"ticks\":\"\"}},\"marker\":{\"colorbar\":{\"outlinewidth\":0,\"ticks\":\"\"}}}],\"scattermapbox\":[{\"type\":\"scattermapbox\",\"marker\":{\"colorbar\":{\"outlinewidth\":0,\"ticks\":\"\"}}}],\"scatterternary\":[{\"type\":\"scatterternary\",\"marker\":{\"colorbar\":{\"outlinewidth\":0,\"ticks\":\"\"}}}],\"scattercarpet\":[{\"type\":\"scattercarpet\",\"marker\":{\"colorbar\":{\"outlinewidth\":0,\"ticks\":\"\"}}}],\"carpet\":[{\"aaxis\":{\"endlinecolor\":\"#2a3f5f\",\"gridcolor\":\"white\",\"linecolor\":\"white\",\"minorgridcolor\":\"white\",\"startlinecolor\":\"#2a3f5f\"},\"baxis\":{\"endlinecolor\":\"#2a3f5f\",\"gridcolor\":\"white\",\"linecolor\":\"white\",\"minorgridcolor\":\"white\",\"startlinecolor\":\"#2a3f5f\"},\"type\":\"carpet\"}],\"table\":[{\"cells\":{\"fill\":{\"color\":\"#EBF0F8\"},\"line\":{\"color\":\"white\"}},\"header\":{\"fill\":{\"color\":\"#C8D4E3\"},\"line\":{\"color\":\"white\"}},\"type\":\"table\"}],\"barpolar\":[{\"marker\":{\"line\":{\"color\":\"#E5ECF6\",\"width\":0.5},\"pattern\":{\"fillmode\":\"overlay\",\"size\":10,\"solidity\":0.2}},\"type\":\"barpolar\"}],\"pie\":[{\"automargin\":true,\"type\":\"pie\"}]},\"layout\":{\"autotypenumbers\":\"strict\",\"colorway\":[\"#636efa\",\"#EF553B\",\"#00cc96\",\"#ab63fa\",\"#FFA15A\",\"#19d3f3\",\"#FF6692\",\"#B6E880\",\"#FF97FF\",\"#FECB52\"],\"font\":{\"color\":\"#2a3f5f\"},\"hovermode\":\"closest\",\"hoverlabel\":{\"align\":\"left\"},\"paper_bgcolor\":\"white\",\"plot_bgcolor\":\"#E5ECF6\",\"polar\":{\"bgcolor\":\"#E5ECF6\",\"angularaxis\":{\"gridcolor\":\"white\",\"linecolor\":\"white\",\"ticks\":\"\"},\"radialaxis\":{\"gridcolor\":\"white\",\"linecolor\":\"white\",\"ticks\":\"\"}},\"ternary\":{\"bgcolor\":\"#E5ECF6\",\"aaxis\":{\"gridcolor\":\"white\",\"linecolor\":\"white\",\"ticks\":\"\"},\"baxis\":{\"gridcolor\":\"white\",\"linecolor\":\"white\",\"ticks\":\"\"},\"caxis\":{\"gridcolor\":\"white\",\"linecolor\":\"white\",\"ticks\":\"\"}},\"coloraxis\":{\"colorbar\":{\"outlinewidth\":0,\"ticks\":\"\"}},\"colorscale\":{\"sequential\":[[0.0,\"#0d0887\"],[0.1111111111111111,\"#46039f\"],[0.2222222222222222,\"#7201a8\"],[0.3333333333333333,\"#9c179e\"],[0.4444444444444444,\"#bd3786\"],[0.5555555555555556,\"#d8576b\"],[0.6666666666666666,\"#ed7953\"],[0.7777777777777778,\"#fb9f3a\"],[0.8888888888888888,\"#fdca26\"],[1.0,\"#f0f921\"]],\"sequentialminus\":[[0.0,\"#0d0887\"],[0.1111111111111111,\"#46039f\"],[0.2222222222222222,\"#7201a8\"],[0.3333333333333333,\"#9c179e\"],[0.4444444444444444,\"#bd3786\"],[0.5555555555555556,\"#d8576b\"],[0.6666666666666666,\"#ed7953\"],[0.7777777777777778,\"#fb9f3a\"],[0.8888888888888888,\"#fdca26\"],[1.0,\"#f0f921\"]],\"diverging\":[[0,\"#8e0152\"],[0.1,\"#c51b7d\"],[0.2,\"#de77ae\"],[0.3,\"#f1b6da\"],[0.4,\"#fde0ef\"],[0.5,\"#f7f7f7\"],[0.6,\"#e6f5d0\"],[0.7,\"#b8e186\"],[0.8,\"#7fbc41\"],[0.9,\"#4d9221\"],[1,\"#276419\"]]},\"xaxis\":{\"gridcolor\":\"white\",\"linecolor\":\"white\",\"ticks\":\"\",\"title\":{\"standoff\":15},\"zerolinecolor\":\"white\",\"automargin\":true,\"zerolinewidth\":2},\"yaxis\":{\"gridcolor\":\"white\",\"linecolor\":\"white\",\"ticks\":\"\",\"title\":{\"standoff\":15},\"zerolinecolor\":\"white\",\"automargin\":true,\"zerolinewidth\":2},\"scene\":{\"xaxis\":{\"backgroundcolor\":\"#E5ECF6\",\"gridcolor\":\"white\",\"linecolor\":\"white\",\"showbackground\":true,\"ticks\":\"\",\"zerolinecolor\":\"white\",\"gridwidth\":2},\"yaxis\":{\"backgroundcolor\":\"#E5ECF6\",\"gridcolor\":\"white\",\"linecolor\":\"white\",\"showbackground\":true,\"ticks\":\"\",\"zerolinecolor\":\"white\",\"gridwidth\":2},\"zaxis\":{\"backgroundcolor\":\"#E5ECF6\",\"gridcolor\":\"white\",\"linecolor\":\"white\",\"showbackground\":true,\"ticks\":\"\",\"zerolinecolor\":\"white\",\"gridwidth\":2}},\"shapedefaults\":{\"line\":{\"color\":\"#2a3f5f\"}},\"annotationdefaults\":{\"arrowcolor\":\"#2a3f5f\",\"arrowhead\":0,\"arrowwidth\":1},\"geo\":{\"bgcolor\":\"white\",\"landcolor\":\"#E5ECF6\",\"subunitcolor\":\"white\",\"showland\":true,\"showlakes\":true,\"lakecolor\":\"white\"},\"title\":{\"x\":0.05},\"mapbox\":{\"style\":\"light\"}}},\"title\":{\"text\":\"Sovcomflot\"},\"width\":750,\"height\":650,\"yaxis2\":{\"anchor\":\"x\",\"domain\":[0,0.3],\"title\":{\"text\":\"Volume\"}},\"yaxis\":{\"anchor\":\"x\",\"domain\":[0.3,1],\"title\":{\"text\":\"Price\"}}},                        {\"responsive\": true}                    ).then(function(){\n",
       "                            \n",
       "var gd = document.getElementById('eead2df0-12ec-4700-ac39-7a1977b145d0');\n",
       "var x = new MutationObserver(function (mutations, observer) {{\n",
       "        var display = window.getComputedStyle(gd).display;\n",
       "        if (!display || display === 'none') {{\n",
       "            console.log([gd, 'removed!']);\n",
       "            Plotly.purge(gd);\n",
       "            observer.disconnect();\n",
       "        }}\n",
       "}});\n",
       "\n",
       "// Listen for the removal of the full notebook cells\n",
       "var notebookContainer = gd.closest('#notebook-container');\n",
       "if (notebookContainer) {{\n",
       "    x.observe(notebookContainer, {childList: true});\n",
       "}}\n",
       "\n",
       "// Listen for the clearing of the current output cell\n",
       "var outputEl = gd.closest('.output');\n",
       "if (outputEl) {{\n",
       "    x.observe(outputEl, {childList: true});\n",
       "}}\n",
       "\n",
       "                        })                };                });            </script>        </div>"
      ]
     },
     "metadata": {},
     "output_type": "display_data"
    },
    {
     "data": {
      "image/png": "[encoded data removed]",
      "text/plain": [
       "<Figure size 1000x600 with 4 Axes>"
      ]
     },
     "metadata": {},
     "output_type": "display_data"
    },
    {
     "ename": "AttributeError",
     "evalue": "'NoneType' object has no attribute 'savefig'",
     "output_type": "error",
     "traceback": [
      "\u001b[1;31m---------------------------------------------------------------------------\u001b[0m",
      "\u001b[1;31mAttributeError\u001b[0m                            Traceback (most recent call last)",
      "Cell \u001b[1;32mIn[43], line 2\u001b[0m\n\u001b[0;32m      1\u001b[0m ly_candlechart(monthly_candles(flotdf))\u001b[38;5;241m.\u001b[39mshow()\n\u001b[1;32m----> 2\u001b[0m \u001b[43mmpl_candlechart\u001b[49m\u001b[43m(\u001b[49m\u001b[43mmonthly_candles\u001b[49m\u001b[43m(\u001b[49m\u001b[43mflotdf\u001b[49m\u001b[43m)\u001b[49m\u001b[43m)\u001b[49m\u001b[38;5;241;43m.\u001b[39;49m\u001b[43msavefig\u001b[49m(\u001b[38;5;124m'\u001b[39m\u001b[38;5;124mflot2123.png\u001b[39m\u001b[38;5;124m'\u001b[39m)\n",
      "\u001b[1;31mAttributeError\u001b[0m: 'NoneType' object has no attribute 'savefig'"
     ]
    }
   ],
   "source": [
    "ly_candlechart(monthly_candles(flotdf)).show()\n",
    "mpl_candlechart(monthly_candles(flotdf))"
   ]
  },
  {
   "cell_type": "code",
   "execution_count": null,
   "id": "f442a0de44d8c819",
   "metadata": {
    "ExecuteTime": {
     "end_time": "2023-12-14T02:34:28.913456700Z",
     "start_time": "2023-12-14T02:34:28.912454900Z"
    },
    "collapsed": false,
    "jupyter": {
     "outputs_hidden": false
    }
   },
   "outputs": [],
   "source": [
    "ly_candlechart(monthly_candles(yndxdf)).show()\n",
    "mpl_candlechart(monthly_candles(yndxdf))"
   ]
  },
  {
   "cell_type": "markdown",
   "id": "3643ec23ceed74ac",
   "metadata": {
    "collapsed": false,
    "jupyter": {
     "outputs_hidden": false
    }
   },
   "source": [
    "Let's test the RSI indicator"
   ]
  },
  {
   "cell_type": "markdown",
   "id": "6fae976a5654118",
   "metadata": {
    "collapsed": false,
    "jupyter": {
     "outputs_hidden": false
    }
   },
   "source": [
    "# RSI indicator function testing\n",
    "We're about to compare my RSI indicator with the perfect one to check anomalies\n",
    "\n",
    "* **ta** - perfect RSI indicator\n",
    "* **my** - my RSI indicator\n",
    "* **corr** - correlation between **ta** or **my** RSI and the price\n",
    "\n",
    "Lets look at them closely and then look what happens if we has COVID pandemic\n"
   ]
  },
  {
   "cell_type": "code",
   "execution_count": 48,
   "id": "1363de6959e67a85",
   "metadata": {
    "ExecuteTime": {
     "start_time": "2023-12-14T02:34:28.913456700Z"
    },
    "collapsed": false,
    "jupyter": {
     "outputs_hidden": false
    }
   },
   "outputs": [
    {
     "name": "stderr",
     "output_type": "stream",
     "text": [
      "C:\\Users\\Zheny\\Desktop\\deploy\\venv\\Lib\\site-packages\\numpy\\lib\\function_base.py:2889: RuntimeWarning:\n",
      "\n",
      "Degrees of freedom <= 0 for slice\n",
      "\n",
      "C:\\Users\\Zheny\\Desktop\\deploy\\venv\\Lib\\site-packages\\numpy\\lib\\function_base.py:2889: RuntimeWarning:\n",
      "\n",
      "Degrees of freedom <= 0 for slice\n",
      "\n",
      "C:\\Users\\Zheny\\Desktop\\deploy\\venv\\Lib\\site-packages\\numpy\\lib\\function_base.py:2889: RuntimeWarning:\n",
      "\n",
      "Degrees of freedom <= 0 for slice\n",
      "\n",
      "C:\\Users\\Zheny\\Desktop\\deploy\\venv\\Lib\\site-packages\\numpy\\lib\\function_base.py:2889: RuntimeWarning:\n",
      "\n",
      "Degrees of freedom <= 0 for slice\n",
      "\n",
      "C:\\Users\\Zheny\\Desktop\\deploy\\venv\\Lib\\site-packages\\numpy\\lib\\function_base.py:2889: RuntimeWarning:\n",
      "\n",
      "Degrees of freedom <= 0 for slice\n",
      "\n",
      "C:\\Users\\Zheny\\Desktop\\deploy\\venv\\Lib\\site-packages\\numpy\\lib\\function_base.py:2889: RuntimeWarning:\n",
      "\n",
      "Degrees of freedom <= 0 for slice\n",
      "\n",
      "C:\\Users\\Zheny\\Desktop\\deploy\\venv\\Lib\\site-packages\\numpy\\lib\\function_base.py:2889: RuntimeWarning:\n",
      "\n",
      "Degrees of freedom <= 0 for slice\n",
      "\n",
      "C:\\Users\\Zheny\\Desktop\\deploy\\venv\\Lib\\site-packages\\numpy\\lib\\function_base.py:2889: RuntimeWarning:\n",
      "\n",
      "Degrees of freedom <= 0 for slice\n",
      "\n"
     ]
    }
   ],
   "source": [
    "yndxdf, flotdf = init()\n",
    "\n",
    "flotdf = flotdf['2021-01-01':'2022-01-10']\n",
    "yndxdf = yndxdf['2021-01-01':'2022-01-10']\n",
    "\n",
    "yndxdf = add_rsi(yndxdf, periods=[7, 14])\n",
    "flotdf = add_rsi(flotdf, periods=[7, 14])\n",
    "with np.errstate(all='ignore'):\n",
    "    yndxdf = add_corr(yndxdf, periods=[7, 14], memories={7: 60, 14: 120}, cut={\"who\": [\"my\"], \"how\": \"front\", \"amount\": 20}, mine=True)\n",
    "with np.errstate(all='ignore'):\n",
    "    flotdf = add_corr(flotdf, periods=[7, 14], memories={7: 60, 14: 120}, cut={\"who\": [\"my\"], \"how\": \"front\", \"amount\": 20}, mine=True)\n",
    "fig1 = fig_rsi(yndxdf, periods=[7, 14], ly=True, graph=True, mine=True, levels=True)\n",
    "fig2 = fig_rsi(flotdf, periods=[7, 14], ly=True, graph=True, mine=True, levels=True)\n",
    "pio.write_image(fig1, \"figure1.png\", format=\"png\")\n",
    "pio.write_image(fig2, \"figure2.png\", format=\"png\")"
   ]
  },
  {
   "cell_type": "code",
   "execution_count": 50,
   "id": "c39b83ab0f4cb3e2",
   "metadata": {
    "ExecuteTime": {
     "end_time": "2023-12-14T02:34:28.916511400Z",
     "start_time": "2023-12-14T02:34:28.915516400Z"
    },
    "collapsed": false,
    "jupyter": {
     "outputs_hidden": false
    }
   },
   "outputs": [
    {
     "name": "stderr",
     "output_type": "stream",
     "text": [
      "C:\\Users\\Zheny\\Desktop\\deploy\\venv\\Lib\\site-packages\\numpy\\lib\\function_base.py:2889: RuntimeWarning:\n",
      "\n",
      "Degrees of freedom <= 0 for slice\n",
      "\n",
      "C:\\Users\\Zheny\\Desktop\\deploy\\venv\\Lib\\site-packages\\numpy\\lib\\function_base.py:2889: RuntimeWarning:\n",
      "\n",
      "Degrees of freedom <= 0 for slice\n",
      "\n",
      "C:\\Users\\Zheny\\Desktop\\deploy\\venv\\Lib\\site-packages\\numpy\\lib\\function_base.py:2889: RuntimeWarning:\n",
      "\n",
      "Degrees of freedom <= 0 for slice\n",
      "\n",
      "C:\\Users\\Zheny\\Desktop\\deploy\\venv\\Lib\\site-packages\\numpy\\lib\\function_base.py:2889: RuntimeWarning:\n",
      "\n",
      "Degrees of freedom <= 0 for slice\n",
      "\n",
      "C:\\Users\\Zheny\\Desktop\\deploy\\venv\\Lib\\site-packages\\numpy\\lib\\function_base.py:2889: RuntimeWarning:\n",
      "\n",
      "Degrees of freedom <= 0 for slice\n",
      "\n",
      "C:\\Users\\Zheny\\Desktop\\deploy\\venv\\Lib\\site-packages\\numpy\\lib\\function_base.py:2889: RuntimeWarning:\n",
      "\n",
      "Degrees of freedom <= 0 for slice\n",
      "\n",
      "C:\\Users\\Zheny\\Desktop\\deploy\\venv\\Lib\\site-packages\\numpy\\lib\\function_base.py:2889: RuntimeWarning:\n",
      "\n",
      "Degrees of freedom <= 0 for slice\n",
      "\n",
      "C:\\Users\\Zheny\\Desktop\\deploy\\venv\\Lib\\site-packages\\numpy\\lib\\function_base.py:2889: RuntimeWarning:\n",
      "\n",
      "Degrees of freedom <= 0 for slice\n",
      "\n"
     ]
    }
   ],
   "source": [
    "yndxdf, flotdf = init()\n",
    "\n",
    "flotdf = flotdf['2022-01-01':'2023-01-10']\n",
    "yndxdf = yndxdf['2022-01-01':'2023-01-10']\n",
    "\n",
    "yndxdf = add_rsi(yndxdf, periods=[7, 14])\n",
    "flotdf = add_rsi(flotdf, periods=[7, 14])\n",
    "with np.errstate(all='ignore'):\n",
    "    yndxdf = add_corr(yndxdf, periods=[7, 14], memories={7: 30, 14: 45}, cut={\"who\": [\"my\"], \"how\": \"front\", \"amount\": 20}, mine=True)\n",
    "with np.errstate(all='ignore'):\n",
    "    flotdf = add_corr(flotdf, periods=[7, 14], memories={7: 30, 14: 45}, cut={\"who\": [\"my\"], \"how\": \"front\", \"amount\": 20}, mine=True)\n",
    "fig1 = fig_rsi(yndxdf, periods=[7, 14], ly=True, graph=True, mine=True, levels=True)\n",
    "fig2 = fig_rsi(flotdf, periods=[7, 14], ly=True, graph=True, mine=True, levels=True)\n",
    "pio.write_image(fig1, \"figure3.png\", format=\"png\")\n",
    "pio.write_image(fig2, \"figure4.png\", format=\"png\")"
   ]
  },
  {
   "cell_type": "code",
   "execution_count": 52,
   "id": "743586b226a46a44",
   "metadata": {
    "ExecuteTime": {
     "end_time": "2023-12-14T02:34:28.916511400Z",
     "start_time": "2023-12-14T02:34:28.916511400Z"
    },
    "collapsed": false,
    "jupyter": {
     "outputs_hidden": false
    }
   },
   "outputs": [
    {
     "name": "stderr",
     "output_type": "stream",
     "text": [
      "C:\\Users\\Zheny\\Desktop\\deploy\\venv\\Lib\\site-packages\\numpy\\lib\\function_base.py:2889: RuntimeWarning:\n",
      "\n",
      "Degrees of freedom <= 0 for slice\n",
      "\n",
      "C:\\Users\\Zheny\\Desktop\\deploy\\venv\\Lib\\site-packages\\numpy\\lib\\function_base.py:2889: RuntimeWarning:\n",
      "\n",
      "Degrees of freedom <= 0 for slice\n",
      "\n",
      "C:\\Users\\Zheny\\Desktop\\deploy\\venv\\Lib\\site-packages\\numpy\\lib\\function_base.py:2889: RuntimeWarning:\n",
      "\n",
      "Degrees of freedom <= 0 for slice\n",
      "\n",
      "C:\\Users\\Zheny\\Desktop\\deploy\\venv\\Lib\\site-packages\\numpy\\lib\\function_base.py:2889: RuntimeWarning:\n",
      "\n",
      "Degrees of freedom <= 0 for slice\n",
      "\n",
      "C:\\Users\\Zheny\\Desktop\\deploy\\venv\\Lib\\site-packages\\numpy\\lib\\function_base.py:2889: RuntimeWarning:\n",
      "\n",
      "Degrees of freedom <= 0 for slice\n",
      "\n",
      "C:\\Users\\Zheny\\Desktop\\deploy\\venv\\Lib\\site-packages\\numpy\\lib\\function_base.py:2889: RuntimeWarning:\n",
      "\n",
      "Degrees of freedom <= 0 for slice\n",
      "\n",
      "C:\\Users\\Zheny\\Desktop\\deploy\\venv\\Lib\\site-packages\\numpy\\lib\\function_base.py:2889: RuntimeWarning:\n",
      "\n",
      "Degrees of freedom <= 0 for slice\n",
      "\n",
      "C:\\Users\\Zheny\\Desktop\\deploy\\venv\\Lib\\site-packages\\numpy\\lib\\function_base.py:2889: RuntimeWarning:\n",
      "\n",
      "Degrees of freedom <= 0 for slice\n",
      "\n"
     ]
    }
   ],
   "source": [
    "yndxdf, flotdf = init()\n",
    "\n",
    "flotdf = flotdf['2021-01-01':'2022-01-10']\n",
    "yndxdf = yndxdf['2021-01-01':'2022-01-10']\n",
    "\n",
    "yndxdf = add_rsi(yndxdf, periods=[7, 14])\n",
    "flotdf = add_rsi(flotdf, periods=[7, 14])\n",
    "with np.errstate(all='ignore'):\n",
    "    yndxdf = add_corr(yndxdf, periods=[7, 14], memories={7: 7, 14: 14}, cut={\"who\": [\"my\"], \"how\": \"front\", \"amount\": 20}, mine=True)\n",
    "with np.errstate(all='ignore'):\n",
    "    flotdf = add_corr(flotdf, periods=[7, 14], memories={7: 7, 14: 14}, cut={\"who\": [\"my\"], \"how\": \"front\", \"amount\": 20}, mine=True)\n",
    "fig1 = fig_rsi(yndxdf, periods=[7, 14], ly=True, graph=True, mine=True, levels=True)\n",
    "fig2 = fig_rsi(flotdf, periods=[7, 14], ly=True, graph=True, mine=True, levels=True)\n",
    "pio.write_image(fig1, \"figure5.png\", format=\"png\")\n",
    "pio.write_image(fig2, \"figure6.png\", format=\"png\")                     "
   ]
  },
  {
   "cell_type": "code",
   "execution_count": null,
   "id": "edc5ae34b15ab81a",
   "metadata": {
    "ExecuteTime": {
     "start_time": "2023-12-14T02:34:28.917511500Z"
    },
    "collapsed": false,
    "jupyter": {
     "outputs_hidden": false
    }
   },
   "outputs": [],
   "source": [
    "fig_rsi(yndxdf, periods=[7, 14], ly=True, graph=True, mine=True, levels=True).show()"
   ]
  },
  {
   "cell_type": "code",
   "execution_count": null,
   "id": "fae0abbe1a4fb64",
   "metadata": {
    "ExecuteTime": {
     "end_time": "2023-12-14T02:34:28.927595500Z",
     "start_time": "2023-12-14T02:34:28.918511800Z"
    },
    "collapsed": false,
    "jupyter": {
     "outputs_hidden": false
    }
   },
   "outputs": [],
   "source": [
    "fig_rsi(flotdf, periods=[7, 14], ly=True, graph=True, mine=True, levels=True).show()"
   ]
  },
  {
   "cell_type": "code",
   "execution_count": null,
   "id": "d07dd0ecbf0b8ed5",
   "metadata": {
    "ExecuteTime": {
     "start_time": "2023-12-14T02:34:28.920511800Z"
    },
    "collapsed": false,
    "jupyter": {
     "outputs_hidden": false
    }
   },
   "outputs": [],
   "source": [
    "fig_rsi(flotdf, periods=[7, 14], ly=True, graph=True, mine=False, levels=True).show()"
   ]
  },
  {
   "cell_type": "markdown",
   "id": "958ed86dfa155e52",
   "metadata": {
    "collapsed": false,
    "jupyter": {
     "outputs_hidden": false
    }
   },
   "source": [
    "**obviously, the correlation of my RSI is not perfect, if we try looking at them closely.**\n",
    "then lets pick from our data small part"
   ]
  },
  {
   "cell_type": "code",
   "execution_count": 56,
   "id": "b70654d32b151d56",
   "metadata": {
    "ExecuteTime": {
     "start_time": "2023-12-14T02:34:28.921551800Z"
    },
    "collapsed": false,
    "jupyter": {
     "outputs_hidden": false
    }
   },
   "outputs": [],
   "source": [
    "fig1 = fig_rsi(yndxdf['2021-06-01':'2022-01-01'], periods=[7, 14], ly=True, graph=True, mine=False, levels=True)\n",
    "fig2 = fig_rsi(flotdf['2021-06-01':'2022-01-01'], periods=[7, 14], ly=True, graph=True, mine=False, levels=True)\n",
    "pio.write_image(fig1, \"perfectYNDX.png\", format=\"png\")\n",
    "pio.write_image(fig2, \"perfectFLOT.png\", format=\"png\")    "
   ]
  },
  {
   "cell_type": "code",
   "execution_count": 54,
   "id": "fce1c7b84928c3a1",
   "metadata": {
    "ExecuteTime": {
     "start_time": "2023-12-14T02:34:28.922551900Z"
    },
    "collapsed": false,
    "jupyter": {
     "outputs_hidden": false
    }
   },
   "outputs": [],
   "source": [
    "flotPerfect"
   ]
  },
  {
   "cell_type": "code",
   "execution_count": 55,
   "id": "43a019a5db0c0caf",
   "metadata": {
    "ExecuteTime": {
     "start_time": "2023-12-14T02:34:28.924551700Z"
    },
    "collapsed": false,
    "jupyter": {
     "outputs_hidden": false
    }
   },
   "outputs": [],
   "source": [
    "fig_rsi(flotdf, periods=[7], ly=True, graph=True, mine=True, levels=True).show()\n",
    "fig_rsi(flotdf, periods=[14], ly=True, graph=True, mine=True, levels=True).show()"
   ]
  },
  {
   "cell_type": "markdown",
   "id": "1990042d3b794e0b",
   "metadata": {
    "collapsed": false,
    "jupyter": {
     "outputs_hidden": false
    }
   },
   "source": [
    "Since now, lets use only the perfect one, to avoid any mistakes"
   ]
  },
  {
   "cell_type": "markdown",
   "id": "89bb812c6f789588",
   "metadata": {
    "collapsed": false,
    "jupyter": {
     "outputs_hidden": false
    }
   },
   "source": [
    "# Plot each graph during the COVID pandemic, 2021 September - 2023 January "
   ]
  },
  {
   "cell_type": "code",
   "execution_count": 58,
   "id": "874c5c07d8828607",
   "metadata": {
    "ExecuteTime": {
     "end_time": "2023-12-14T04:30:21.416495500Z",
     "start_time": "2023-12-14T04:30:21.393147800Z"
    },
    "collapsed": false,
    "jupyter": {
     "outputs_hidden": false
    }
   },
   "outputs": [],
   "source": [
    "yndxdf, flotdf = init()\n",
    "flotdf = flotdf['2021-09-01':'2023-01-10']\n",
    "yndxdf = yndxdf['2021-09-01':'2023-01-10']\n",
    "\n",
    "yndxdf = add_rsi(yndxdf, periods=[17, 35])\n",
    "flotdf = add_rsi(flotdf, periods=[17, 35])\n",
    "with np.errstate(all='ignore'):\n",
    "    yndxdf = add_corr(yndxdf, periods=[17, 35], memories={17: 17, 35: 35}, cut={\"who\": [\"my\"], \"how\": \"front\", \"amount\": 20}, mine=True)\n",
    "with np.errstate(all='ignore'):\n",
    "    flotdf = add_corr(flotdf, periods=[17, 35], memories={17:17, 35:35}, cut={\"who\": [\"my\"], \"how\": \"front\", \"amount\": 20}, mine=True)\n",
    "\n",
    "\n",
    "fig1 = fig_rsi(yndxdf['2021-06-01':'2022-01-01'], periods=[17, 35], ly=True, graph=True, mine=False, levels=True)\n",
    "fig2 = fig_rsi(flotdf['2021-06-01':'2022-01-01'], periods=[17, 35], ly=True, graph=True, mine=False, levels=True)\n",
    "pio.write_image(fig1, \"YNDXCoviddRSIequal.png\", format=\"png\")\n",
    "pio.write_image(fig2, \"FLOTCoviddRSIequal.png\", format=\"png\")    "
   ]
  },
  {
   "cell_type": "code",
   "execution_count": null,
   "id": "58a107baccc62757",
   "metadata": {
    "ExecuteTime": {
     "end_time": "2023-12-14T04:30:23.187396200Z",
     "start_time": "2023-12-14T04:30:22.863356500Z"
    },
    "collapsed": false,
    "jupyter": {
     "outputs_hidden": false
    }
   },
   "outputs": [],
   "source": [
    "yndxdf, flotdf = init()\n",
    "flotdf = flotdf['2021-09-01':'2023-01-10']\n",
    "yndxdf = yndxdf['2021-09-01':'2023-01-10']\n",
    "\n",
    "yndxdf = add_rsi(yndxdf, periods=[17, 35])\n",
    "flotdf = add_rsi(flotdf, periods=[17, 35])\n",
    "with np.errstate(all='ignore'):\n",
    "    yndxdf = add_corr(yndxdf, periods=[17, 35], memories={17: 5, 35: 7}, cut={\"who\": [\"my\"], \"how\": \"front\", \"amount\": 20}, mine=True)\n",
    "with np.errstate(all='ignore'):\n",
    "    flotdf = add_corr(flotdf, periods=[17, 35], memories={17:5, 35:7}, cut={\"who\": [\"my\"], \"how\": \"front\", \"amount\": 20}, mine=True)\n",
    "\n",
    "\n",
    "fig1 = fig_rsi(yndxdf['2021-06-01':'2022-01-01'], periods=[17, 35], ly=True, graph=True, mine=False, levels=True)\n",
    "fig2 = fig_rsi(flotdf['2021-06-01':'2022-01-01'], periods=[17, 35], ly=True, graph=True, mine=False, levels=True)\n",
    "pio.write_image(fig1, \"YNDXCoviddRSIsmall.png\", format=\"png\")\n",
    "pio.write_image(fig2, \"FLOTCoviddRSIequal.png\", format=\"png\") "
   ]
  },
  {
   "cell_type": "code",
   "execution_count": null,
   "id": "3788ce14a7631349",
   "metadata": {
    "ExecuteTime": {
     "end_time": "2023-12-14T02:34:28.930594800Z",
     "start_time": "2023-12-14T02:34:28.927595500Z"
    },
    "collapsed": false,
    "jupyter": {
     "outputs_hidden": false
    }
   },
   "outputs": [],
   "source": [
    "ly_candlechart(weekly_candles(flotdf)).show()\n",
    "mpl_candlechart(weekly_candles(flotdf))"
   ]
  },
  {
   "cell_type": "markdown",
   "id": "a4e46eddda180c44",
   "metadata": {
    "collapsed": false,
    "jupyter": {
     "outputs_hidden": false
    }
   },
   "source": []
  },
  {
   "cell_type": "markdown",
   "id": "b078ffaec0eb7b12",
   "metadata": {
    "collapsed": false,
    "jupyter": {
     "outputs_hidden": false
    }
   },
   "source": [
    "As you can see, the graphs are almost the same, Moscow Exchange closed ot the begging of 2022 year\n",
    "In both cases, the price is decreasing, but the price of Sovcomflot is decreasing much faster than the price of Yandex\n",
    "Price of Yandex fell from 6000 to 2000, while the price of Sovcomflot fell from 90 to 40.\n"
   ]
  },
  {
   "cell_type": "markdown",
   "id": "788da9a1c0ec0c7f",
   "metadata": {
    "collapsed": false,
    "jupyter": {
     "outputs_hidden": false
    }
   },
   "source": []
  },
  {
   "cell_type": "code",
   "execution_count": null,
   "id": "e85c633a0f0eedd1",
   "metadata": {
    "ExecuteTime": {
     "start_time": "2023-12-14T02:34:28.928594500Z"
    },
    "collapsed": false,
    "jupyter": {
     "outputs_hidden": false
    }
   },
   "outputs": [],
   "source": [
    "yndxdf = add_rsi(yndxdf, periods=[7,14])\n",
    "\n",
    "with np.errstate(all='ignore'):\n",
    "    yndxdf = add_corr(yndxdf, periods=[7, 14], memories={7: 45, 14: 45}, cut={\"who\": [\"my\"], \"how\": \"front\", \"amount\": 20}, mine=True)\n",
    "    \n",
    "fig_rsi(yndxdf, periods=[7, 14], ly=True, graph=True, mine=True, levels=True).show()"
   ]
  },
  {
   "cell_type": "code",
   "execution_count": null,
   "id": "d708678ee5628f04",
   "metadata": {
    "ExecuteTime": {
     "start_time": "2023-12-14T02:34:28.929595100Z"
    },
    "collapsed": false,
    "jupyter": {
     "outputs_hidden": false
    }
   },
   "outputs": [],
   "source": [
    "yndxdf, flotdf = init_yahoo('CL=F', 'GC=F', 'Crude Oil', 'Gold')\n",
    "\n",
    "yndxdf = add_rsi(yndxdf, periods=[7, 14, 25])\n",
    "flotdf = add_rsi(flotdf, periods=[7, 14, 25])\n",
    "with np.errstate(all='ignore'):\n",
    "    yndxdf = add_corr(yndxdf, periods=[7, 14, 25], memories={7: 15, 14: 25, 25:7}, cut={\"who\": [\"my\"], \"how\": \"front\", \"amount\": 20}, mine=False)\n",
    "with np.errstate(all='ignore'):\n",
    "    flotdf = add_corr(flotdf, periods=[7, 14, 25], memories={7: 15, 14: 25, 25:7}, cut={\"who\": [\"my\"], \"how\": \"front\", \"amount\": 20}, mine=False)\n",
    "    \n",
    "\n",
    "yndxdf = yndxdf['2021-06-01':'2022-09-10']\n",
    "flotdf = flotdf['2021-06-01':'2022-09-10']\n",
    "\n",
    "\n",
    "fig1 = fig_rsi(yndxdf['2021-06-01':'2022-01-01'], periods=[7, 14], ly=True, graph=True, mine=False, levels=True)\n",
    "fig2 = fig_rsi(flotdf['2021-06-01':'2022-01-01'], periods=[7, 14], ly=True, graph=True, mine=False, levels=True)\n",
    "pio.write_image(fig1, \"CrudeOildRSI.png\", format=\"png\")\n",
    "pio.write_image(fig2, \"GolddRSI.png\", format=\"png\")    "
   ]
  },
  {
   "cell_type": "code",
   "execution_count": null,
   "id": "7ceddbbe9da63fae",
   "metadata": {
    "ExecuteTime": {
     "end_time": "2023-12-14T02:34:28.930594800Z",
     "start_time": "2023-12-14T02:34:28.930594800Z"
    },
    "collapsed": false,
    "jupyter": {
     "outputs_hidden": false
    }
   },
   "outputs": [],
   "source": [
    "yndxdf = yndxdf['2022-01-01':'2022-09-10']\n",
    "flotdf = flotdf['2022-01-01':'2022-09-10']\n",
    "\n",
    "fig_rsi(yndxdf, periods=[7, 14, 25], ly=True, graph=True, mine=False, levels=True).show()\n",
    "fig_rsi(flotdf, periods=[7, 14, 25], ly=True, graph=True, mine=False, levels=True).show()"
   ]
  },
  {
   "cell_type": "markdown",
   "id": "9a7c60e4ce1cff80",
   "metadata": {
    "collapsed": false,
    "jupyter": {
     "outputs_hidden": false
    }
   },
   "source": []
  },
  {
   "cell_type": "code",
   "execution_count": null,
   "id": "927cba02c49e3323",
   "metadata": {
    "ExecuteTime": {
     "end_time": "2023-12-14T02:43:30.642064500Z",
     "start_time": "2023-12-14T02:43:30.498046500Z"
    },
    "collapsed": false,
    "jupyter": {
     "outputs_hidden": false
    }
   },
   "outputs": [],
   "source": [
    "yndxdf, flotdf = init()\n",
    "yndxdf = add_rsi(yndxdf['2019-05-01':\"2020-01-01\"], periods=[7, 14, 25])\n",
    "fig_rsi(yndxdf, periods=[7, 14, 25], ly=True, mine=False, graph=False, levels=True)"
   ]
  },
  {
   "cell_type": "code",
   "execution_count": null,
   "id": "53baa567a83e21d5",
   "metadata": {
    "ExecuteTime": {
     "start_time": "2023-12-14T02:34:28.932643800Z"
    },
    "collapsed": false,
    "jupyter": {
     "outputs_hidden": false
    }
   },
   "outputs": [],
   "source": []
  }
 ],
 "metadata": {
  "kernelspec": {
   "display_name": "Python 3 (ipykernel)",
   "language": "python",
   "name": "python3"
  },
  "language_info": {
   "codemirror_mode": {
    "name": "ipython",
    "version": 3
   },
   "file_extension": ".py",
   "mimetype": "text/x-python",
   "name": "python",
   "nbconvert_exporter": "python",
   "pygments_lexer": "ipython3",
   "version": "3.11.6"
  }
 },
 "nbformat": 4,
 "nbformat_minor": 5
}
